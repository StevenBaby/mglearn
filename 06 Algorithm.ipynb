{
 "cells": [
  {
   "cell_type": "code",
   "execution_count": 1,
   "metadata": {},
   "outputs": [],
   "source": [
    "%config InlineBackend.figure_formats = ['svg']"
   ]
  },
  {
   "cell_type": "code",
   "execution_count": 2,
   "metadata": {},
   "outputs": [],
   "source": [
    "import numpy as np\n",
    "import matplotlib.pyplot as plt\n",
    "import pandas as pd\n",
    "from sklearn import datasets\n",
    "from sklearn.model_selection import (\n",
    "    train_test_split,\n",
    "    cross_val_score,\n",
    ")\n",
    "\n",
    "import mglearn"
   ]
  },
  {
   "attachments": {},
   "cell_type": "markdown",
   "metadata": {},
   "source": [
    "# Algorithm Chains and Pipelines"
   ]
  },
  {
   "cell_type": "code",
   "execution_count": 3,
   "metadata": {},
   "outputs": [],
   "source": [
    "from sklearn.svm import SVC\n",
    "from sklearn.datasets import load_breast_cancer\n",
    "from sklearn.model_selection import train_test_split\n",
    "from sklearn.preprocessing import MinMaxScaler\n",
    "# load and split the data\n",
    "cancer = load_breast_cancer()\n",
    "X_train, X_test, y_train, y_test = train_test_split(\n",
    "    cancer.data, cancer.target, random_state=0)\n",
    "# compute minimum and maximum on the training data\n",
    "scaler = MinMaxScaler().fit(X_train)"
   ]
  },
  {
   "cell_type": "code",
   "execution_count": 4,
   "metadata": {},
   "outputs": [
    {
     "name": "stdout",
     "output_type": "stream",
     "text": [
      "Test score: 0.97\n"
     ]
    }
   ],
   "source": [
    "# rescale the training data\n",
    "X_train_scaled = scaler.transform(X_train)\n",
    "svm = SVC()\n",
    "# learn an SVM on the scaled training data\n",
    "svm.fit(X_train_scaled, y_train)\n",
    "# scale the test data and score the scaled data\n",
    "X_test_scaled = scaler.transform(X_test)\n",
    "print(\"Test score: {:.2f}\".format(svm.score(X_test_scaled, y_test)))"
   ]
  },
  {
   "attachments": {},
   "cell_type": "markdown",
   "metadata": {},
   "source": [
    "## Parameter Selection with Preprocessing"
   ]
  },
  {
   "cell_type": "code",
   "execution_count": 5,
   "metadata": {},
   "outputs": [
    {
     "name": "stdout",
     "output_type": "stream",
     "text": [
      "Best cross-validation accuracy: 0.98\n",
      "Best set score: 0.97\n",
      "Best parameters:  {'C': 1, 'gamma': 1}\n"
     ]
    }
   ],
   "source": [
    "from sklearn.model_selection import GridSearchCV\n",
    "# for illustration purposes only, don't use this code!\n",
    "param_grid = {'C': [0.001, 0.01, 0.1, 1, 10, 100],\n",
    "              'gamma': [0.001, 0.01, 0.1, 1, 10, 100]}\n",
    "grid = GridSearchCV(SVC(), param_grid=param_grid, cv=5)\n",
    "grid.fit(X_train_scaled, y_train)\n",
    "print(\"Best cross-validation accuracy: {:.2f}\".format(grid.best_score_))\n",
    "print(\"Best set score: {:.2f}\".format(grid.score(X_test_scaled, y_test)))\n",
    "print(\"Best parameters: \", grid.best_params_)"
   ]
  },
  {
   "cell_type": "code",
   "execution_count": 6,
   "metadata": {},
   "outputs": [
    {
     "data": {
      "image/svg+xml": "<?xml version=\"1.0\" encoding=\"utf-8\" standalone=\"no\"?>\n<!DOCTYPE svg PUBLIC \"-//W3C//DTD SVG 1.1//EN\"\n  \"http://www.w3.org/Graphics/SVG/1.1/DTD/svg11.dtd\">\n<svg xmlns:xlink=\"http://www.w3.org/1999/xlink\" width=\"851.4pt\" height=\"595.091983pt\" viewBox=\"0 0 851.4 595.091983\" xmlns=\"http://www.w3.org/2000/svg\" version=\"1.1\">\n <metadata>\n  <rdf:RDF xmlns:dc=\"http://purl.org/dc/elements/1.1/\" xmlns:cc=\"http://creativecommons.org/ns#\" xmlns:rdf=\"http://www.w3.org/1999/02/22-rdf-syntax-ns#\">\n   <cc:Work>\n    <dc:type rdf:resource=\"http://purl.org/dc/dcmitype/StillImage\"/>\n    <dc:date>2023-03-09T15:19:12.858418</dc:date>\n    <dc:format>image/svg+xml</dc:format>\n    <dc:creator>\n     <cc:Agent>\n      <dc:title>Matplotlib v3.5.3, https://matplotlib.org/</dc:title>\n     </cc:Agent>\n    </dc:creator>\n   </cc:Work>\n  </rdf:RDF>\n </metadata>\n <defs>\n  <style type=\"text/css\">*{stroke-linejoin: round; stroke-linecap: butt}</style>\n </defs>\n <g id=\"figure_1\">\n  <g id=\"patch_1\">\n   <path d=\"M 0 595.091983 \nL 851.4 595.091983 \nL 851.4 0 \nL 0 0 \nz\n\" style=\"fill: #ffffff\"/>\n  </g>\n  <g id=\"axes_1\">\n   <g id=\"patch_2\">\n    <path d=\"M 11.343564 286.711568 \nL 504.427723 286.711568 \nL 504.427723 253.662387 \nL 11.343564 253.662387 \nz\n\" clip-path=\"url(#p9fa626b3d6)\" style=\"fill: url(#h0b92e89354)\"/>\n   </g>\n   <g id=\"patch_3\">\n    <path d=\"M 508.571287 286.711568 \nL 628.734653 286.711568 \nL 628.734653 253.662387 \nL 508.571287 253.662387 \nz\n\" clip-path=\"url(#p9fa626b3d6)\" style=\"fill: url(#h3dfa8ca3c4)\"/>\n   </g>\n   <g id=\"patch_4\">\n    <path d=\"M 632.878218 286.711568 \nL 835.912871 286.711568 \nL 835.912871 253.662387 \nL 632.878218 253.662387 \nz\n\" clip-path=\"url(#p9fa626b3d6)\" style=\"fill: #808080\"/>\n   </g>\n   <g id=\"matplotlib.axis_1\"/>\n   <g id=\"matplotlib.axis_2\"/>\n   <g id=\"text_1\">\n    <!-- training folds -->\n    <g transform=\"translate(213.832894 282.58042)scale(0.14 -0.14)\">\n     <defs>\n      <path id=\"DejaVuSans-74\" d=\"M 1172 4494 \nL 1172 3500 \nL 2356 3500 \nL 2356 3053 \nL 1172 3053 \nL 1172 1153 \nQ 1172 725 1289 603 \nQ 1406 481 1766 481 \nL 2356 481 \nL 2356 0 \nL 1766 0 \nQ 1100 0 847 248 \nQ 594 497 594 1153 \nL 594 3053 \nL 172 3053 \nL 172 3500 \nL 594 3500 \nL 594 4494 \nL 1172 4494 \nz\n\" transform=\"scale(0.015625)\"/>\n      <path id=\"DejaVuSans-72\" d=\"M 2631 2963 \nQ 2534 3019 2420 3045 \nQ 2306 3072 2169 3072 \nQ 1681 3072 1420 2755 \nQ 1159 2438 1159 1844 \nL 1159 0 \nL 581 0 \nL 581 3500 \nL 1159 3500 \nL 1159 2956 \nQ 1341 3275 1631 3429 \nQ 1922 3584 2338 3584 \nQ 2397 3584 2469 3576 \nQ 2541 3569 2628 3553 \nL 2631 2963 \nz\n\" transform=\"scale(0.015625)\"/>\n      <path id=\"DejaVuSans-61\" d=\"M 2194 1759 \nQ 1497 1759 1228 1600 \nQ 959 1441 959 1056 \nQ 959 750 1161 570 \nQ 1363 391 1709 391 \nQ 2188 391 2477 730 \nQ 2766 1069 2766 1631 \nL 2766 1759 \nL 2194 1759 \nz\nM 3341 1997 \nL 3341 0 \nL 2766 0 \nL 2766 531 \nQ 2569 213 2275 61 \nQ 1981 -91 1556 -91 \nQ 1019 -91 701 211 \nQ 384 513 384 1019 \nQ 384 1609 779 1909 \nQ 1175 2209 1959 2209 \nL 2766 2209 \nL 2766 2266 \nQ 2766 2663 2505 2880 \nQ 2244 3097 1772 3097 \nQ 1472 3097 1187 3025 \nQ 903 2953 641 2809 \nL 641 3341 \nQ 956 3463 1253 3523 \nQ 1550 3584 1831 3584 \nQ 2591 3584 2966 3190 \nQ 3341 2797 3341 1997 \nz\n\" transform=\"scale(0.015625)\"/>\n      <path id=\"DejaVuSans-69\" d=\"M 603 3500 \nL 1178 3500 \nL 1178 0 \nL 603 0 \nL 603 3500 \nz\nM 603 4863 \nL 1178 4863 \nL 1178 4134 \nL 603 4134 \nL 603 4863 \nz\n\" transform=\"scale(0.015625)\"/>\n      <path id=\"DejaVuSans-6e\" d=\"M 3513 2113 \nL 3513 0 \nL 2938 0 \nL 2938 2094 \nQ 2938 2591 2744 2837 \nQ 2550 3084 2163 3084 \nQ 1697 3084 1428 2787 \nQ 1159 2491 1159 1978 \nL 1159 0 \nL 581 0 \nL 581 3500 \nL 1159 3500 \nL 1159 2956 \nQ 1366 3272 1645 3428 \nQ 1925 3584 2291 3584 \nQ 2894 3584 3203 3211 \nQ 3513 2838 3513 2113 \nz\n\" transform=\"scale(0.015625)\"/>\n      <path id=\"DejaVuSans-67\" d=\"M 2906 1791 \nQ 2906 2416 2648 2759 \nQ 2391 3103 1925 3103 \nQ 1463 3103 1205 2759 \nQ 947 2416 947 1791 \nQ 947 1169 1205 825 \nQ 1463 481 1925 481 \nQ 2391 481 2648 825 \nQ 2906 1169 2906 1791 \nz\nM 3481 434 \nQ 3481 -459 3084 -895 \nQ 2688 -1331 1869 -1331 \nQ 1566 -1331 1297 -1286 \nQ 1028 -1241 775 -1147 \nL 775 -588 \nQ 1028 -725 1275 -790 \nQ 1522 -856 1778 -856 \nQ 2344 -856 2625 -561 \nQ 2906 -266 2906 331 \nL 2906 616 \nQ 2728 306 2450 153 \nQ 2172 0 1784 0 \nQ 1141 0 747 490 \nQ 353 981 353 1791 \nQ 353 2603 747 3093 \nQ 1141 3584 1784 3584 \nQ 2172 3584 2450 3431 \nQ 2728 3278 2906 2969 \nL 2906 3500 \nL 3481 3500 \nL 3481 434 \nz\n\" transform=\"scale(0.015625)\"/>\n      <path id=\"DejaVuSans-20\" transform=\"scale(0.015625)\"/>\n      <path id=\"DejaVuSans-66\" d=\"M 2375 4863 \nL 2375 4384 \nL 1825 4384 \nQ 1516 4384 1395 4259 \nQ 1275 4134 1275 3809 \nL 1275 3500 \nL 2222 3500 \nL 2222 3053 \nL 1275 3053 \nL 1275 0 \nL 697 0 \nL 697 3053 \nL 147 3053 \nL 147 3500 \nL 697 3500 \nL 697 3744 \nQ 697 4328 969 4595 \nQ 1241 4863 1831 4863 \nL 2375 4863 \nz\n\" transform=\"scale(0.015625)\"/>\n      <path id=\"DejaVuSans-6f\" d=\"M 1959 3097 \nQ 1497 3097 1228 2736 \nQ 959 2375 959 1747 \nQ 959 1119 1226 758 \nQ 1494 397 1959 397 \nQ 2419 397 2687 759 \nQ 2956 1122 2956 1747 \nQ 2956 2369 2687 2733 \nQ 2419 3097 1959 3097 \nz\nM 1959 3584 \nQ 2709 3584 3137 3096 \nQ 3566 2609 3566 1747 \nQ 3566 888 3137 398 \nQ 2709 -91 1959 -91 \nQ 1206 -91 779 398 \nQ 353 888 353 1747 \nQ 353 2609 779 3096 \nQ 1206 3584 1959 3584 \nz\n\" transform=\"scale(0.015625)\"/>\n      <path id=\"DejaVuSans-6c\" d=\"M 603 4863 \nL 1178 4863 \nL 1178 0 \nL 603 0 \nL 603 4863 \nz\n\" transform=\"scale(0.015625)\"/>\n      <path id=\"DejaVuSans-64\" d=\"M 2906 2969 \nL 2906 4863 \nL 3481 4863 \nL 3481 0 \nL 2906 0 \nL 2906 525 \nQ 2725 213 2448 61 \nQ 2172 -91 1784 -91 \nQ 1150 -91 751 415 \nQ 353 922 353 1747 \nQ 353 2572 751 3078 \nQ 1150 3584 1784 3584 \nQ 2172 3584 2448 3432 \nQ 2725 3281 2906 2969 \nz\nM 947 1747 \nQ 947 1113 1208 752 \nQ 1469 391 1925 391 \nQ 2381 391 2643 752 \nQ 2906 1113 2906 1747 \nQ 2906 2381 2643 2742 \nQ 2381 3103 1925 3103 \nQ 1469 3103 1208 2742 \nQ 947 2381 947 1747 \nz\n\" transform=\"scale(0.015625)\"/>\n      <path id=\"DejaVuSans-73\" d=\"M 2834 3397 \nL 2834 2853 \nQ 2591 2978 2328 3040 \nQ 2066 3103 1784 3103 \nQ 1356 3103 1142 2972 \nQ 928 2841 928 2578 \nQ 928 2378 1081 2264 \nQ 1234 2150 1697 2047 \nL 1894 2003 \nQ 2506 1872 2764 1633 \nQ 3022 1394 3022 966 \nQ 3022 478 2636 193 \nQ 2250 -91 1575 -91 \nQ 1294 -91 989 -36 \nQ 684 19 347 128 \nL 347 722 \nQ 666 556 975 473 \nQ 1284 391 1588 391 \nQ 1994 391 2212 530 \nQ 2431 669 2431 922 \nQ 2431 1156 2273 1281 \nQ 2116 1406 1581 1522 \nL 1381 1569 \nQ 847 1681 609 1914 \nQ 372 2147 372 2553 \nQ 372 3047 722 3315 \nQ 1072 3584 1716 3584 \nQ 2034 3584 2315 3537 \nQ 2597 3491 2834 3397 \nz\n\" transform=\"scale(0.015625)\"/>\n     </defs>\n     <use xlink:href=\"#DejaVuSans-74\"/>\n     <use xlink:href=\"#DejaVuSans-72\" x=\"39.208984\"/>\n     <use xlink:href=\"#DejaVuSans-61\" x=\"80.322266\"/>\n     <use xlink:href=\"#DejaVuSans-69\" x=\"141.601562\"/>\n     <use xlink:href=\"#DejaVuSans-6e\" x=\"169.384766\"/>\n     <use xlink:href=\"#DejaVuSans-69\" x=\"232.763672\"/>\n     <use xlink:href=\"#DejaVuSans-6e\" x=\"260.546875\"/>\n     <use xlink:href=\"#DejaVuSans-67\" x=\"323.925781\"/>\n     <use xlink:href=\"#DejaVuSans-20\" x=\"387.402344\"/>\n     <use xlink:href=\"#DejaVuSans-66\" x=\"419.189453\"/>\n     <use xlink:href=\"#DejaVuSans-6f\" x=\"454.394531\"/>\n     <use xlink:href=\"#DejaVuSans-6c\" x=\"515.576172\"/>\n     <use xlink:href=\"#DejaVuSans-64\" x=\"543.359375\"/>\n     <use xlink:href=\"#DejaVuSans-73\" x=\"606.835938\"/>\n    </g>\n   </g>\n   <g id=\"text_2\">\n    <!-- validation fold -->\n    <g transform=\"translate(520.900065 282.58042)scale(0.14 -0.14)\">\n     <defs>\n      <path id=\"DejaVuSans-76\" d=\"M 191 3500 \nL 800 3500 \nL 1894 563 \nL 2988 3500 \nL 3597 3500 \nL 2284 0 \nL 1503 0 \nL 191 3500 \nz\n\" transform=\"scale(0.015625)\"/>\n     </defs>\n     <use xlink:href=\"#DejaVuSans-76\"/>\n     <use xlink:href=\"#DejaVuSans-61\" x=\"59.179688\"/>\n     <use xlink:href=\"#DejaVuSans-6c\" x=\"120.458984\"/>\n     <use xlink:href=\"#DejaVuSans-69\" x=\"148.242188\"/>\n     <use xlink:href=\"#DejaVuSans-64\" x=\"176.025391\"/>\n     <use xlink:href=\"#DejaVuSans-61\" x=\"239.501953\"/>\n     <use xlink:href=\"#DejaVuSans-74\" x=\"300.78125\"/>\n     <use xlink:href=\"#DejaVuSans-69\" x=\"339.990234\"/>\n     <use xlink:href=\"#DejaVuSans-6f\" x=\"367.773438\"/>\n     <use xlink:href=\"#DejaVuSans-6e\" x=\"428.955078\"/>\n     <use xlink:href=\"#DejaVuSans-20\" x=\"492.333984\"/>\n     <use xlink:href=\"#DejaVuSans-66\" x=\"524.121094\"/>\n     <use xlink:href=\"#DejaVuSans-6f\" x=\"559.326172\"/>\n     <use xlink:href=\"#DejaVuSans-6c\" x=\"620.507812\"/>\n     <use xlink:href=\"#DejaVuSans-64\" x=\"648.291016\"/>\n    </g>\n   </g>\n   <g id=\"text_3\">\n    <!-- test set -->\n    <g transform=\"translate(710.102483 282.58042)scale(0.14 -0.14)\">\n     <defs>\n      <path id=\"DejaVuSans-65\" d=\"M 3597 1894 \nL 3597 1613 \nL 953 1613 \nQ 991 1019 1311 708 \nQ 1631 397 2203 397 \nQ 2534 397 2845 478 \nQ 3156 559 3463 722 \nL 3463 178 \nQ 3153 47 2828 -22 \nQ 2503 -91 2169 -91 \nQ 1331 -91 842 396 \nQ 353 884 353 1716 \nQ 353 2575 817 3079 \nQ 1281 3584 2069 3584 \nQ 2775 3584 3186 3129 \nQ 3597 2675 3597 1894 \nz\nM 3022 2063 \nQ 3016 2534 2758 2815 \nQ 2500 3097 2075 3097 \nQ 1594 3097 1305 2825 \nQ 1016 2553 972 2059 \nL 3022 2063 \nz\n\" transform=\"scale(0.015625)\"/>\n     </defs>\n     <use xlink:href=\"#DejaVuSans-74\"/>\n     <use xlink:href=\"#DejaVuSans-65\" x=\"39.208984\"/>\n     <use xlink:href=\"#DejaVuSans-73\" x=\"100.732422\"/>\n     <use xlink:href=\"#DejaVuSans-74\" x=\"152.832031\"/>\n     <use xlink:href=\"#DejaVuSans-20\" x=\"192.041016\"/>\n     <use xlink:href=\"#DejaVuSans-73\" x=\"223.828125\"/>\n     <use xlink:href=\"#DejaVuSans-65\" x=\"275.927734\"/>\n     <use xlink:href=\"#DejaVuSans-74\" x=\"337.451172\"/>\n    </g>\n   </g>\n   <g id=\"patch_5\">\n    <path d=\"M 322.110891 205.742108 \nQ 322.110891 210.111768 322.110891 214.481429 \n\" style=\"fill: none; stroke: #000000; stroke-width: 2; stroke-linecap: round\"/>\n    <path d=\"M 22.110891 218.481429 \nL 22.110891 214.481429 \nL 622.110891 214.481429 \nL 622.110891 218.481429 \n\" style=\"fill: none; stroke: #000000; stroke-width: 2; stroke-linecap: round\"/>\n   </g>\n   <g id=\"text_4\">\n    <g id=\"patch_6\">\n     <path d=\"M 272.835891 203.242152 \nL 371.385891 203.242152 \nL 371.385891 171.885902 \nL 272.835891 171.885902 \nz\n\" style=\"fill: #ffffff; stroke: #000000; stroke-linejoin: miter\"/>\n    </g>\n    <!-- scaler fit -->\n    <g transform=\"translate(278.835891 193.082777)scale(0.2 -0.2)\">\n     <defs>\n      <path id=\"DejaVuSans-63\" d=\"M 3122 3366 \nL 3122 2828 \nQ 2878 2963 2633 3030 \nQ 2388 3097 2138 3097 \nQ 1578 3097 1268 2742 \nQ 959 2388 959 1747 \nQ 959 1106 1268 751 \nQ 1578 397 2138 397 \nQ 2388 397 2633 464 \nQ 2878 531 3122 666 \nL 3122 134 \nQ 2881 22 2623 -34 \nQ 2366 -91 2075 -91 \nQ 1284 -91 818 406 \nQ 353 903 353 1747 \nQ 353 2603 823 3093 \nQ 1294 3584 2113 3584 \nQ 2378 3584 2631 3529 \nQ 2884 3475 3122 3366 \nz\n\" transform=\"scale(0.015625)\"/>\n     </defs>\n     <use xlink:href=\"#DejaVuSans-73\"/>\n     <use xlink:href=\"#DejaVuSans-63\" x=\"52.099609\"/>\n     <use xlink:href=\"#DejaVuSans-61\" x=\"107.080078\"/>\n     <use xlink:href=\"#DejaVuSans-6c\" x=\"168.359375\"/>\n     <use xlink:href=\"#DejaVuSans-65\" x=\"196.142578\"/>\n     <use xlink:href=\"#DejaVuSans-72\" x=\"257.666016\"/>\n     <use xlink:href=\"#DejaVuSans-20\" x=\"298.779297\"/>\n     <use xlink:href=\"#DejaVuSans-66\" x=\"330.566406\"/>\n     <use xlink:href=\"#DejaVuSans-69\" x=\"365.771484\"/>\n     <use xlink:href=\"#DejaVuSans-74\" x=\"393.554688\"/>\n    </g>\n   </g>\n   <g id=\"patch_7\">\n    <path d=\"M 259.957426 123.118365 \nQ 259.957426 133.684351 259.957426 144.250337 \n\" style=\"fill: none; stroke: #000000; stroke-width: 2; stroke-linecap: round\"/>\n    <path d=\"M 19.957426 148.250337 \nL 19.957426 144.250337 \nL 499.957426 144.250337 \nL 499.957426 148.250337 \n\" style=\"fill: none; stroke: #000000; stroke-width: 2; stroke-linecap: round\"/>\n   </g>\n   <g id=\"text_5\">\n    <g id=\"patch_8\">\n     <path d=\"M 220.388676 120.619201 \nL 299.526176 120.619201 \nL 299.526176 89.262951 \nL 220.388676 89.262951 \nz\n\" style=\"fill: #ffffff; stroke: #000000; stroke-linejoin: miter\"/>\n    </g>\n    <!-- SVC fit -->\n    <g transform=\"translate(226.388676 110.459826)scale(0.2 -0.2)\">\n     <defs>\n      <path id=\"DejaVuSans-53\" d=\"M 3425 4513 \nL 3425 3897 \nQ 3066 4069 2747 4153 \nQ 2428 4238 2131 4238 \nQ 1616 4238 1336 4038 \nQ 1056 3838 1056 3469 \nQ 1056 3159 1242 3001 \nQ 1428 2844 1947 2747 \nL 2328 2669 \nQ 3034 2534 3370 2195 \nQ 3706 1856 3706 1288 \nQ 3706 609 3251 259 \nQ 2797 -91 1919 -91 \nQ 1588 -91 1214 -16 \nQ 841 59 441 206 \nL 441 856 \nQ 825 641 1194 531 \nQ 1563 422 1919 422 \nQ 2459 422 2753 634 \nQ 3047 847 3047 1241 \nQ 3047 1584 2836 1778 \nQ 2625 1972 2144 2069 \nL 1759 2144 \nQ 1053 2284 737 2584 \nQ 422 2884 422 3419 \nQ 422 4038 858 4394 \nQ 1294 4750 2059 4750 \nQ 2388 4750 2728 4690 \nQ 3069 4631 3425 4513 \nz\n\" transform=\"scale(0.015625)\"/>\n      <path id=\"DejaVuSans-56\" d=\"M 1831 0 \nL 50 4666 \nL 709 4666 \nL 2188 738 \nL 3669 4666 \nL 4325 4666 \nL 2547 0 \nL 1831 0 \nz\n\" transform=\"scale(0.015625)\"/>\n      <path id=\"DejaVuSans-43\" d=\"M 4122 4306 \nL 4122 3641 \nQ 3803 3938 3442 4084 \nQ 3081 4231 2675 4231 \nQ 1875 4231 1450 3742 \nQ 1025 3253 1025 2328 \nQ 1025 1406 1450 917 \nQ 1875 428 2675 428 \nQ 3081 428 3442 575 \nQ 3803 722 4122 1019 \nL 4122 359 \nQ 3791 134 3420 21 \nQ 3050 -91 2638 -91 \nQ 1578 -91 968 557 \nQ 359 1206 359 2328 \nQ 359 3453 968 4101 \nQ 1578 4750 2638 4750 \nQ 3056 4750 3426 4639 \nQ 3797 4528 4122 4306 \nz\n\" transform=\"scale(0.015625)\"/>\n     </defs>\n     <use xlink:href=\"#DejaVuSans-53\"/>\n     <use xlink:href=\"#DejaVuSans-56\" x=\"63.476562\"/>\n     <use xlink:href=\"#DejaVuSans-43\" x=\"131.884766\"/>\n     <use xlink:href=\"#DejaVuSans-20\" x=\"201.708984\"/>\n     <use xlink:href=\"#DejaVuSans-66\" x=\"233.496094\"/>\n     <use xlink:href=\"#DejaVuSans-69\" x=\"268.701172\"/>\n     <use xlink:href=\"#DejaVuSans-74\" x=\"296.484375\"/>\n    </g>\n   </g>\n   <g id=\"patch_9\">\n    <path d=\"M 566.581188 123.118365 \nQ 566.581188 133.684351 566.581188 144.250337 \n\" style=\"fill: none; stroke: #000000; stroke-width: 2; stroke-linecap: round\"/>\n    <path d=\"M 516.581188 148.250337 \nL 516.581188 144.250337 \nL 616.581188 144.250337 \nL 616.581188 148.250337 \n\" style=\"fill: none; stroke: #000000; stroke-width: 2; stroke-linecap: round\"/>\n   </g>\n   <g id=\"text_6\">\n    <g id=\"patch_10\">\n     <path d=\"M 502.298376 120.619201 \nL 630.864001 120.619201 \nL 630.864001 89.262951 \nL 502.298376 89.262951 \nz\n\" style=\"fill: #ffffff; stroke: #000000; stroke-linejoin: miter\"/>\n    </g>\n    <!-- SVC predict -->\n    <g transform=\"translate(508.298376 110.459826)scale(0.2 -0.2)\">\n     <defs>\n      <path id=\"DejaVuSans-70\" d=\"M 1159 525 \nL 1159 -1331 \nL 581 -1331 \nL 581 3500 \nL 1159 3500 \nL 1159 2969 \nQ 1341 3281 1617 3432 \nQ 1894 3584 2278 3584 \nQ 2916 3584 3314 3078 \nQ 3713 2572 3713 1747 \nQ 3713 922 3314 415 \nQ 2916 -91 2278 -91 \nQ 1894 -91 1617 61 \nQ 1341 213 1159 525 \nz\nM 3116 1747 \nQ 3116 2381 2855 2742 \nQ 2594 3103 2138 3103 \nQ 1681 3103 1420 2742 \nQ 1159 2381 1159 1747 \nQ 1159 1113 1420 752 \nQ 1681 391 2138 391 \nQ 2594 391 2855 752 \nQ 3116 1113 3116 1747 \nz\n\" transform=\"scale(0.015625)\"/>\n     </defs>\n     <use xlink:href=\"#DejaVuSans-53\"/>\n     <use xlink:href=\"#DejaVuSans-56\" x=\"63.476562\"/>\n     <use xlink:href=\"#DejaVuSans-43\" x=\"131.884766\"/>\n     <use xlink:href=\"#DejaVuSans-20\" x=\"201.708984\"/>\n     <use xlink:href=\"#DejaVuSans-70\" x=\"233.496094\"/>\n     <use xlink:href=\"#DejaVuSans-72\" x=\"296.972656\"/>\n     <use xlink:href=\"#DejaVuSans-65\" x=\"335.835938\"/>\n     <use xlink:href=\"#DejaVuSans-64\" x=\"397.359375\"/>\n     <use xlink:href=\"#DejaVuSans-69\" x=\"460.835938\"/>\n     <use xlink:href=\"#DejaVuSans-63\" x=\"488.619141\"/>\n     <use xlink:href=\"#DejaVuSans-74\" x=\"543.599609\"/>\n    </g>\n   </g>\n   <g id=\"text_7\">\n    <!-- Cross validation -->\n    <g transform=\"translate(377.80875 16.318125)scale(0.12 -0.12)\">\n     <use xlink:href=\"#DejaVuSans-43\"/>\n     <use xlink:href=\"#DejaVuSans-72\" x=\"69.824219\"/>\n     <use xlink:href=\"#DejaVuSans-6f\" x=\"108.6875\"/>\n     <use xlink:href=\"#DejaVuSans-73\" x=\"169.869141\"/>\n     <use xlink:href=\"#DejaVuSans-73\" x=\"221.96875\"/>\n     <use xlink:href=\"#DejaVuSans-20\" x=\"274.068359\"/>\n     <use xlink:href=\"#DejaVuSans-76\" x=\"305.855469\"/>\n     <use xlink:href=\"#DejaVuSans-61\" x=\"365.035156\"/>\n     <use xlink:href=\"#DejaVuSans-6c\" x=\"426.314453\"/>\n     <use xlink:href=\"#DejaVuSans-69\" x=\"454.097656\"/>\n     <use xlink:href=\"#DejaVuSans-64\" x=\"481.880859\"/>\n     <use xlink:href=\"#DejaVuSans-61\" x=\"545.357422\"/>\n     <use xlink:href=\"#DejaVuSans-74\" x=\"606.636719\"/>\n     <use xlink:href=\"#DejaVuSans-69\" x=\"645.845703\"/>\n     <use xlink:href=\"#DejaVuSans-6f\" x=\"673.628906\"/>\n     <use xlink:href=\"#DejaVuSans-6e\" x=\"734.810547\"/>\n    </g>\n   </g>\n  </g>\n  <g id=\"axes_2\">\n   <g id=\"patch_11\">\n    <path d=\"M 11.343564 589.111568 \nL 504.427723 589.111568 \nL 504.427723 556.062387 \nL 11.343564 556.062387 \nz\n\" clip-path=\"url(#pfd288a9965)\" style=\"fill: url(#h0b92e89354)\"/>\n   </g>\n   <g id=\"patch_12\">\n    <path d=\"M 508.571287 589.111568 \nL 628.734653 589.111568 \nL 628.734653 556.062387 \nL 508.571287 556.062387 \nz\n\" clip-path=\"url(#pfd288a9965)\" style=\"fill: url(#h3dfa8ca3c4)\"/>\n   </g>\n   <g id=\"patch_13\">\n    <path d=\"M 632.878218 589.111568 \nL 835.912871 589.111568 \nL 835.912871 556.062387 \nL 632.878218 556.062387 \nz\n\" clip-path=\"url(#pfd288a9965)\" style=\"fill: #808080\"/>\n   </g>\n   <g id=\"matplotlib.axis_3\"/>\n   <g id=\"matplotlib.axis_4\"/>\n   <g id=\"text_8\">\n    <!-- training folds -->\n    <g transform=\"translate(213.832894 584.98042)scale(0.14 -0.14)\">\n     <use xlink:href=\"#DejaVuSans-74\"/>\n     <use xlink:href=\"#DejaVuSans-72\" x=\"39.208984\"/>\n     <use xlink:href=\"#DejaVuSans-61\" x=\"80.322266\"/>\n     <use xlink:href=\"#DejaVuSans-69\" x=\"141.601562\"/>\n     <use xlink:href=\"#DejaVuSans-6e\" x=\"169.384766\"/>\n     <use xlink:href=\"#DejaVuSans-69\" x=\"232.763672\"/>\n     <use xlink:href=\"#DejaVuSans-6e\" x=\"260.546875\"/>\n     <use xlink:href=\"#DejaVuSans-67\" x=\"323.925781\"/>\n     <use xlink:href=\"#DejaVuSans-20\" x=\"387.402344\"/>\n     <use xlink:href=\"#DejaVuSans-66\" x=\"419.189453\"/>\n     <use xlink:href=\"#DejaVuSans-6f\" x=\"454.394531\"/>\n     <use xlink:href=\"#DejaVuSans-6c\" x=\"515.576172\"/>\n     <use xlink:href=\"#DejaVuSans-64\" x=\"543.359375\"/>\n     <use xlink:href=\"#DejaVuSans-73\" x=\"606.835938\"/>\n    </g>\n   </g>\n   <g id=\"text_9\">\n    <!-- validation fold -->\n    <g transform=\"translate(520.900065 584.98042)scale(0.14 -0.14)\">\n     <use xlink:href=\"#DejaVuSans-76\"/>\n     <use xlink:href=\"#DejaVuSans-61\" x=\"59.179688\"/>\n     <use xlink:href=\"#DejaVuSans-6c\" x=\"120.458984\"/>\n     <use xlink:href=\"#DejaVuSans-69\" x=\"148.242188\"/>\n     <use xlink:href=\"#DejaVuSans-64\" x=\"176.025391\"/>\n     <use xlink:href=\"#DejaVuSans-61\" x=\"239.501953\"/>\n     <use xlink:href=\"#DejaVuSans-74\" x=\"300.78125\"/>\n     <use xlink:href=\"#DejaVuSans-69\" x=\"339.990234\"/>\n     <use xlink:href=\"#DejaVuSans-6f\" x=\"367.773438\"/>\n     <use xlink:href=\"#DejaVuSans-6e\" x=\"428.955078\"/>\n     <use xlink:href=\"#DejaVuSans-20\" x=\"492.333984\"/>\n     <use xlink:href=\"#DejaVuSans-66\" x=\"524.121094\"/>\n     <use xlink:href=\"#DejaVuSans-6f\" x=\"559.326172\"/>\n     <use xlink:href=\"#DejaVuSans-6c\" x=\"620.507812\"/>\n     <use xlink:href=\"#DejaVuSans-64\" x=\"648.291016\"/>\n    </g>\n   </g>\n   <g id=\"text_10\">\n    <!-- test set -->\n    <g transform=\"translate(710.102483 584.98042)scale(0.14 -0.14)\">\n     <use xlink:href=\"#DejaVuSans-74\"/>\n     <use xlink:href=\"#DejaVuSans-65\" x=\"39.208984\"/>\n     <use xlink:href=\"#DejaVuSans-73\" x=\"100.732422\"/>\n     <use xlink:href=\"#DejaVuSans-74\" x=\"152.832031\"/>\n     <use xlink:href=\"#DejaVuSans-20\" x=\"192.041016\"/>\n     <use xlink:href=\"#DejaVuSans-73\" x=\"223.828125\"/>\n     <use xlink:href=\"#DejaVuSans-65\" x=\"275.927734\"/>\n     <use xlink:href=\"#DejaVuSans-74\" x=\"337.451172\"/>\n    </g>\n   </g>\n   <g id=\"patch_14\">\n    <path d=\"M 322.110891 508.142108 \nQ 322.110891 512.511768 322.110891 516.881429 \n\" style=\"fill: none; stroke: #000000; stroke-width: 2; stroke-linecap: round\"/>\n    <path d=\"M 22.110891 520.881429 \nL 22.110891 516.881429 \nL 622.110891 516.881429 \nL 622.110891 520.881429 \n\" style=\"fill: none; stroke: #000000; stroke-width: 2; stroke-linecap: round\"/>\n   </g>\n   <g id=\"text_11\">\n    <g id=\"patch_15\">\n     <path d=\"M 272.835891 505.642152 \nL 371.385891 505.642152 \nL 371.385891 474.285902 \nL 272.835891 474.285902 \nz\n\" style=\"fill: #ffffff; stroke: #000000; stroke-linejoin: miter\"/>\n    </g>\n    <!-- scaler fit -->\n    <g transform=\"translate(278.835891 495.482777)scale(0.2 -0.2)\">\n     <use xlink:href=\"#DejaVuSans-73\"/>\n     <use xlink:href=\"#DejaVuSans-63\" x=\"52.099609\"/>\n     <use xlink:href=\"#DejaVuSans-61\" x=\"107.080078\"/>\n     <use xlink:href=\"#DejaVuSans-6c\" x=\"168.359375\"/>\n     <use xlink:href=\"#DejaVuSans-65\" x=\"196.142578\"/>\n     <use xlink:href=\"#DejaVuSans-72\" x=\"257.666016\"/>\n     <use xlink:href=\"#DejaVuSans-20\" x=\"298.779297\"/>\n     <use xlink:href=\"#DejaVuSans-66\" x=\"330.566406\"/>\n     <use xlink:href=\"#DejaVuSans-69\" x=\"365.771484\"/>\n     <use xlink:href=\"#DejaVuSans-74\" x=\"393.554688\"/>\n    </g>\n   </g>\n   <g id=\"patch_16\">\n    <path d=\"M 322.110891 425.518365 \nQ 322.110891 436.084351 322.110891 446.650337 \n\" style=\"fill: none; stroke: #000000; stroke-width: 2; stroke-linecap: round\"/>\n    <path d=\"M 22.110891 450.650337 \nL 22.110891 446.650337 \nL 622.110891 446.650337 \nL 622.110891 450.650337 \n\" style=\"fill: none; stroke: #000000; stroke-width: 2; stroke-linecap: round\"/>\n   </g>\n   <g id=\"text_12\">\n    <g id=\"patch_17\">\n     <path d=\"M 282.542141 423.019201 \nL 361.679641 423.019201 \nL 361.679641 391.662951 \nL 282.542141 391.662951 \nz\n\" style=\"fill: #ffffff; stroke: #000000; stroke-linejoin: miter\"/>\n    </g>\n    <!-- SVC fit -->\n    <g transform=\"translate(288.542141 412.859826)scale(0.2 -0.2)\">\n     <use xlink:href=\"#DejaVuSans-53\"/>\n     <use xlink:href=\"#DejaVuSans-56\" x=\"63.476562\"/>\n     <use xlink:href=\"#DejaVuSans-43\" x=\"131.884766\"/>\n     <use xlink:href=\"#DejaVuSans-20\" x=\"201.708984\"/>\n     <use xlink:href=\"#DejaVuSans-66\" x=\"233.496094\"/>\n     <use xlink:href=\"#DejaVuSans-69\" x=\"268.701172\"/>\n     <use xlink:href=\"#DejaVuSans-74\" x=\"296.484375\"/>\n    </g>\n   </g>\n   <g id=\"patch_18\">\n    <path d=\"M 736.467327 425.518365 \nQ 736.467327 436.084351 736.467327 446.650337 \n\" style=\"fill: none; stroke: #000000; stroke-width: 2; stroke-linecap: round\"/>\n    <path d=\"M 640.467327 450.650337 \nL 640.467327 446.650337 \nL 832.467327 446.650337 \nL 832.467327 450.650337 \n\" style=\"fill: none; stroke: #000000; stroke-width: 2; stroke-linecap: round\"/>\n   </g>\n   <g id=\"text_13\">\n    <g id=\"patch_19\">\n     <path d=\"M 672.184514 423.019201 \nL 800.750139 423.019201 \nL 800.750139 391.662951 \nL 672.184514 391.662951 \nz\n\" style=\"fill: #ffffff; stroke: #000000; stroke-linejoin: miter\"/>\n    </g>\n    <!-- SVC predict -->\n    <g transform=\"translate(678.184514 412.859826)scale(0.2 -0.2)\">\n     <use xlink:href=\"#DejaVuSans-53\"/>\n     <use xlink:href=\"#DejaVuSans-56\" x=\"63.476562\"/>\n     <use xlink:href=\"#DejaVuSans-43\" x=\"131.884766\"/>\n     <use xlink:href=\"#DejaVuSans-20\" x=\"201.708984\"/>\n     <use xlink:href=\"#DejaVuSans-70\" x=\"233.496094\"/>\n     <use xlink:href=\"#DejaVuSans-72\" x=\"296.972656\"/>\n     <use xlink:href=\"#DejaVuSans-65\" x=\"335.835938\"/>\n     <use xlink:href=\"#DejaVuSans-64\" x=\"397.359375\"/>\n     <use xlink:href=\"#DejaVuSans-69\" x=\"460.835938\"/>\n     <use xlink:href=\"#DejaVuSans-63\" x=\"488.619141\"/>\n     <use xlink:href=\"#DejaVuSans-74\" x=\"543.599609\"/>\n    </g>\n   </g>\n   <g id=\"text_14\">\n    <!-- Test set prediction -->\n    <g transform=\"translate(370.801875 318.718125)scale(0.12 -0.12)\">\n     <defs>\n      <path id=\"DejaVuSans-54\" d=\"M -19 4666 \nL 3928 4666 \nL 3928 4134 \nL 2272 4134 \nL 2272 0 \nL 1638 0 \nL 1638 4134 \nL -19 4134 \nL -19 4666 \nz\n\" transform=\"scale(0.015625)\"/>\n     </defs>\n     <use xlink:href=\"#DejaVuSans-54\"/>\n     <use xlink:href=\"#DejaVuSans-65\" x=\"44.083984\"/>\n     <use xlink:href=\"#DejaVuSans-73\" x=\"105.607422\"/>\n     <use xlink:href=\"#DejaVuSans-74\" x=\"157.707031\"/>\n     <use xlink:href=\"#DejaVuSans-20\" x=\"196.916016\"/>\n     <use xlink:href=\"#DejaVuSans-73\" x=\"228.703125\"/>\n     <use xlink:href=\"#DejaVuSans-65\" x=\"280.802734\"/>\n     <use xlink:href=\"#DejaVuSans-74\" x=\"342.326172\"/>\n     <use xlink:href=\"#DejaVuSans-20\" x=\"381.535156\"/>\n     <use xlink:href=\"#DejaVuSans-70\" x=\"413.322266\"/>\n     <use xlink:href=\"#DejaVuSans-72\" x=\"476.798828\"/>\n     <use xlink:href=\"#DejaVuSans-65\" x=\"515.662109\"/>\n     <use xlink:href=\"#DejaVuSans-64\" x=\"577.185547\"/>\n     <use xlink:href=\"#DejaVuSans-69\" x=\"640.662109\"/>\n     <use xlink:href=\"#DejaVuSans-63\" x=\"668.445312\"/>\n     <use xlink:href=\"#DejaVuSans-74\" x=\"723.425781\"/>\n     <use xlink:href=\"#DejaVuSans-69\" x=\"762.634766\"/>\n     <use xlink:href=\"#DejaVuSans-6f\" x=\"790.417969\"/>\n     <use xlink:href=\"#DejaVuSans-6e\" x=\"851.599609\"/>\n    </g>\n   </g>\n  </g>\n </g>\n <defs>\n  <clipPath id=\"p9fa626b3d6\">\n   <rect x=\"7.2\" y=\"22.318125\" width=\"837\" height=\"252\"/>\n  </clipPath>\n  <clipPath id=\"pfd288a9965\">\n   <rect x=\"7.2\" y=\"324.718125\" width=\"837\" height=\"252\"/>\n  </clipPath>\n </defs>\n <defs>\n  <pattern id=\"h0b92e89354\" patternUnits=\"userSpaceOnUse\" x=\"0\" y=\"0\" width=\"72\" height=\"72\">\n   <rect x=\"0\" y=\"0\" width=\"73\" height=\"73\" fill=\"#ffffff\"/>\n   <path d=\"M -36 36 \nL 36 -36 \nM -30 42 \nL 42 -30 \nM -24 48 \nL 48 -24 \nM -18 54 \nL 54 -18 \nM -12 60 \nL 60 -12 \nM -6 66 \nL 66 -6 \nM 0 72 \nL 72 0 \nM 6 78 \nL 78 6 \nM 12 84 \nL 84 12 \nM 18 90 \nL 90 18 \nM 24 96 \nL 96 24 \nM 30 102 \nL 102 30 \nM 36 108 \nL 108 36 \n\" style=\"fill: #000000; stroke: #000000; stroke-width: 1.0; stroke-linecap: butt; stroke-linejoin: miter\"/>\n  </pattern>\n  <pattern id=\"h3dfa8ca3c4\" patternUnits=\"userSpaceOnUse\" x=\"0\" y=\"0\" width=\"72\" height=\"72\">\n   <rect x=\"0\" y=\"0\" width=\"73\" height=\"73\" fill=\"#808080\"/>\n   <path d=\"M -36 36 \nL 36 -36 \nM -30 42 \nL 42 -30 \nM -24 48 \nL 48 -24 \nM -18 54 \nL 54 -18 \nM -12 60 \nL 60 -12 \nM -6 66 \nL 66 -6 \nM 0 72 \nL 72 0 \nM 6 78 \nL 78 6 \nM 12 84 \nL 84 12 \nM 18 90 \nL 90 18 \nM 24 96 \nL 96 24 \nM 30 102 \nL 102 30 \nM 36 108 \nL 108 36 \n\" style=\"fill: #000000; stroke: #000000; stroke-width: 1.0; stroke-linecap: butt; stroke-linejoin: miter\"/>\n  </pattern>\n </defs>\n</svg>\n",
      "text/plain": [
       "<Figure size 1500x1000 with 2 Axes>"
      ]
     },
     "metadata": {},
     "output_type": "display_data"
    }
   ],
   "source": [
    "mglearn.plots.plot_improper_processing()"
   ]
  },
  {
   "attachments": {},
   "cell_type": "markdown",
   "metadata": {},
   "source": [
    "## Building Pipelines"
   ]
  },
  {
   "cell_type": "code",
   "execution_count": 7,
   "metadata": {},
   "outputs": [],
   "source": [
    "from sklearn.pipeline import Pipeline\n",
    "pipe = Pipeline([(\"scaler\", MinMaxScaler()), (\"svm\", SVC())])"
   ]
  },
  {
   "cell_type": "code",
   "execution_count": 8,
   "metadata": {},
   "outputs": [
    {
     "name": "stdout",
     "output_type": "stream",
     "text": [
      "Test score: 0.97\n"
     ]
    }
   ],
   "source": [
    "pipe.fit(X_train, y_train)\n",
    "print(\"Test score: {:.2f}\".format(pipe.score(X_test, y_test)))"
   ]
  },
  {
   "attachments": {},
   "cell_type": "markdown",
   "metadata": {},
   "source": [
    "## Using Pipelines in Grid Searches"
   ]
  },
  {
   "cell_type": "code",
   "execution_count": 9,
   "metadata": {},
   "outputs": [],
   "source": [
    "param_grid = {'svm__C': [0.001, 0.01, 0.1, 1, 10, 100],\n",
    "              'svm__gamma': [0.001, 0.01, 0.1, 1, 10, 100]}"
   ]
  },
  {
   "cell_type": "code",
   "execution_count": 10,
   "metadata": {},
   "outputs": [
    {
     "name": "stdout",
     "output_type": "stream",
     "text": [
      "Best cross-validation accuracy: 0.98\n",
      "Test set score: 0.97\n",
      "Best parameters: {'svm__C': 1, 'svm__gamma': 1}\n"
     ]
    }
   ],
   "source": [
    "grid = GridSearchCV(pipe, param_grid=param_grid, cv=5)\n",
    "grid.fit(X_train, y_train)\n",
    "print(\"Best cross-validation accuracy: {:.2f}\".format(grid.best_score_))\n",
    "print(\"Test set score: {:.2f}\".format(grid.score(X_test, y_test)))\n",
    "print(\"Best parameters: {}\".format(grid.best_params_))"
   ]
  },
  {
   "cell_type": "code",
   "execution_count": 11,
   "metadata": {},
   "outputs": [
    {
     "data": {
      "image/svg+xml": "<?xml version=\"1.0\" encoding=\"utf-8\" standalone=\"no\"?>\n<!DOCTYPE svg PUBLIC \"-//W3C//DTD SVG 1.1//EN\"\n  \"http://www.w3.org/Graphics/SVG/1.1/DTD/svg11.dtd\">\n<svg xmlns:xlink=\"http://www.w3.org/1999/xlink\" width=\"851.4pt\" height=\"484.333808pt\" viewBox=\"0 0 851.4 484.333808\" xmlns=\"http://www.w3.org/2000/svg\" version=\"1.1\">\n <metadata>\n  <rdf:RDF xmlns:dc=\"http://purl.org/dc/elements/1.1/\" xmlns:cc=\"http://creativecommons.org/ns#\" xmlns:rdf=\"http://www.w3.org/1999/02/22-rdf-syntax-ns#\">\n   <cc:Work>\n    <dc:type rdf:resource=\"http://purl.org/dc/dcmitype/StillImage\"/>\n    <dc:date>2023-03-09T15:19:15.002707</dc:date>\n    <dc:format>image/svg+xml</dc:format>\n    <dc:creator>\n     <cc:Agent>\n      <dc:title>Matplotlib v3.5.3, https://matplotlib.org/</dc:title>\n     </cc:Agent>\n    </dc:creator>\n   </cc:Work>\n  </rdf:RDF>\n </metadata>\n <defs>\n  <style type=\"text/css\">*{stroke-linejoin: round; stroke-linecap: butt}</style>\n </defs>\n <g id=\"figure_1\">\n  <g id=\"patch_1\">\n   <path d=\"M 0 484.333808 \nL 851.4 484.333808 \nL 851.4 0 \nL 0 0 \nz\n\" style=\"fill: #ffffff\"/>\n  </g>\n  <g id=\"axes_1\">\n   <g id=\"patch_2\">\n    <path d=\"M 11.343564 227.729089 \nL 504.427723 227.729089 \nL 504.427723 194.192605 \nL 11.343564 194.192605 \nz\n\" clip-path=\"url(#pf82cdf9991)\" style=\"fill: url(#h5579cb1c20)\"/>\n   </g>\n   <g id=\"patch_3\">\n    <path d=\"M 508.571287 227.729089 \nL 628.734653 227.729089 \nL 628.734653 194.192605 \nL 508.571287 194.192605 \nz\n\" clip-path=\"url(#pf82cdf9991)\" style=\"fill: url(#hf6d6b3aa96)\"/>\n   </g>\n   <g id=\"patch_4\">\n    <path d=\"M 632.878218 227.729089 \nL 835.912871 227.729089 \nL 835.912871 194.192605 \nL 632.878218 194.192605 \nz\n\" clip-path=\"url(#pf82cdf9991)\" style=\"fill: #808080\"/>\n   </g>\n   <g id=\"matplotlib.axis_1\"/>\n   <g id=\"matplotlib.axis_2\"/>\n   <g id=\"text_1\">\n    <!-- training folds -->\n    <g transform=\"translate(213.832894 223.537029)scale(0.14 -0.14)\">\n     <defs>\n      <path id=\"DejaVuSans-74\" d=\"M 1172 4494 \nL 1172 3500 \nL 2356 3500 \nL 2356 3053 \nL 1172 3053 \nL 1172 1153 \nQ 1172 725 1289 603 \nQ 1406 481 1766 481 \nL 2356 481 \nL 2356 0 \nL 1766 0 \nQ 1100 0 847 248 \nQ 594 497 594 1153 \nL 594 3053 \nL 172 3053 \nL 172 3500 \nL 594 3500 \nL 594 4494 \nL 1172 4494 \nz\n\" transform=\"scale(0.015625)\"/>\n      <path id=\"DejaVuSans-72\" d=\"M 2631 2963 \nQ 2534 3019 2420 3045 \nQ 2306 3072 2169 3072 \nQ 1681 3072 1420 2755 \nQ 1159 2438 1159 1844 \nL 1159 0 \nL 581 0 \nL 581 3500 \nL 1159 3500 \nL 1159 2956 \nQ 1341 3275 1631 3429 \nQ 1922 3584 2338 3584 \nQ 2397 3584 2469 3576 \nQ 2541 3569 2628 3553 \nL 2631 2963 \nz\n\" transform=\"scale(0.015625)\"/>\n      <path id=\"DejaVuSans-61\" d=\"M 2194 1759 \nQ 1497 1759 1228 1600 \nQ 959 1441 959 1056 \nQ 959 750 1161 570 \nQ 1363 391 1709 391 \nQ 2188 391 2477 730 \nQ 2766 1069 2766 1631 \nL 2766 1759 \nL 2194 1759 \nz\nM 3341 1997 \nL 3341 0 \nL 2766 0 \nL 2766 531 \nQ 2569 213 2275 61 \nQ 1981 -91 1556 -91 \nQ 1019 -91 701 211 \nQ 384 513 384 1019 \nQ 384 1609 779 1909 \nQ 1175 2209 1959 2209 \nL 2766 2209 \nL 2766 2266 \nQ 2766 2663 2505 2880 \nQ 2244 3097 1772 3097 \nQ 1472 3097 1187 3025 \nQ 903 2953 641 2809 \nL 641 3341 \nQ 956 3463 1253 3523 \nQ 1550 3584 1831 3584 \nQ 2591 3584 2966 3190 \nQ 3341 2797 3341 1997 \nz\n\" transform=\"scale(0.015625)\"/>\n      <path id=\"DejaVuSans-69\" d=\"M 603 3500 \nL 1178 3500 \nL 1178 0 \nL 603 0 \nL 603 3500 \nz\nM 603 4863 \nL 1178 4863 \nL 1178 4134 \nL 603 4134 \nL 603 4863 \nz\n\" transform=\"scale(0.015625)\"/>\n      <path id=\"DejaVuSans-6e\" d=\"M 3513 2113 \nL 3513 0 \nL 2938 0 \nL 2938 2094 \nQ 2938 2591 2744 2837 \nQ 2550 3084 2163 3084 \nQ 1697 3084 1428 2787 \nQ 1159 2491 1159 1978 \nL 1159 0 \nL 581 0 \nL 581 3500 \nL 1159 3500 \nL 1159 2956 \nQ 1366 3272 1645 3428 \nQ 1925 3584 2291 3584 \nQ 2894 3584 3203 3211 \nQ 3513 2838 3513 2113 \nz\n\" transform=\"scale(0.015625)\"/>\n      <path id=\"DejaVuSans-67\" d=\"M 2906 1791 \nQ 2906 2416 2648 2759 \nQ 2391 3103 1925 3103 \nQ 1463 3103 1205 2759 \nQ 947 2416 947 1791 \nQ 947 1169 1205 825 \nQ 1463 481 1925 481 \nQ 2391 481 2648 825 \nQ 2906 1169 2906 1791 \nz\nM 3481 434 \nQ 3481 -459 3084 -895 \nQ 2688 -1331 1869 -1331 \nQ 1566 -1331 1297 -1286 \nQ 1028 -1241 775 -1147 \nL 775 -588 \nQ 1028 -725 1275 -790 \nQ 1522 -856 1778 -856 \nQ 2344 -856 2625 -561 \nQ 2906 -266 2906 331 \nL 2906 616 \nQ 2728 306 2450 153 \nQ 2172 0 1784 0 \nQ 1141 0 747 490 \nQ 353 981 353 1791 \nQ 353 2603 747 3093 \nQ 1141 3584 1784 3584 \nQ 2172 3584 2450 3431 \nQ 2728 3278 2906 2969 \nL 2906 3500 \nL 3481 3500 \nL 3481 434 \nz\n\" transform=\"scale(0.015625)\"/>\n      <path id=\"DejaVuSans-20\" transform=\"scale(0.015625)\"/>\n      <path id=\"DejaVuSans-66\" d=\"M 2375 4863 \nL 2375 4384 \nL 1825 4384 \nQ 1516 4384 1395 4259 \nQ 1275 4134 1275 3809 \nL 1275 3500 \nL 2222 3500 \nL 2222 3053 \nL 1275 3053 \nL 1275 0 \nL 697 0 \nL 697 3053 \nL 147 3053 \nL 147 3500 \nL 697 3500 \nL 697 3744 \nQ 697 4328 969 4595 \nQ 1241 4863 1831 4863 \nL 2375 4863 \nz\n\" transform=\"scale(0.015625)\"/>\n      <path id=\"DejaVuSans-6f\" d=\"M 1959 3097 \nQ 1497 3097 1228 2736 \nQ 959 2375 959 1747 \nQ 959 1119 1226 758 \nQ 1494 397 1959 397 \nQ 2419 397 2687 759 \nQ 2956 1122 2956 1747 \nQ 2956 2369 2687 2733 \nQ 2419 3097 1959 3097 \nz\nM 1959 3584 \nQ 2709 3584 3137 3096 \nQ 3566 2609 3566 1747 \nQ 3566 888 3137 398 \nQ 2709 -91 1959 -91 \nQ 1206 -91 779 398 \nQ 353 888 353 1747 \nQ 353 2609 779 3096 \nQ 1206 3584 1959 3584 \nz\n\" transform=\"scale(0.015625)\"/>\n      <path id=\"DejaVuSans-6c\" d=\"M 603 4863 \nL 1178 4863 \nL 1178 0 \nL 603 0 \nL 603 4863 \nz\n\" transform=\"scale(0.015625)\"/>\n      <path id=\"DejaVuSans-64\" d=\"M 2906 2969 \nL 2906 4863 \nL 3481 4863 \nL 3481 0 \nL 2906 0 \nL 2906 525 \nQ 2725 213 2448 61 \nQ 2172 -91 1784 -91 \nQ 1150 -91 751 415 \nQ 353 922 353 1747 \nQ 353 2572 751 3078 \nQ 1150 3584 1784 3584 \nQ 2172 3584 2448 3432 \nQ 2725 3281 2906 2969 \nz\nM 947 1747 \nQ 947 1113 1208 752 \nQ 1469 391 1925 391 \nQ 2381 391 2643 752 \nQ 2906 1113 2906 1747 \nQ 2906 2381 2643 2742 \nQ 2381 3103 1925 3103 \nQ 1469 3103 1208 2742 \nQ 947 2381 947 1747 \nz\n\" transform=\"scale(0.015625)\"/>\n      <path id=\"DejaVuSans-73\" d=\"M 2834 3397 \nL 2834 2853 \nQ 2591 2978 2328 3040 \nQ 2066 3103 1784 3103 \nQ 1356 3103 1142 2972 \nQ 928 2841 928 2578 \nQ 928 2378 1081 2264 \nQ 1234 2150 1697 2047 \nL 1894 2003 \nQ 2506 1872 2764 1633 \nQ 3022 1394 3022 966 \nQ 3022 478 2636 193 \nQ 2250 -91 1575 -91 \nQ 1294 -91 989 -36 \nQ 684 19 347 128 \nL 347 722 \nQ 666 556 975 473 \nQ 1284 391 1588 391 \nQ 1994 391 2212 530 \nQ 2431 669 2431 922 \nQ 2431 1156 2273 1281 \nQ 2116 1406 1581 1522 \nL 1381 1569 \nQ 847 1681 609 1914 \nQ 372 2147 372 2553 \nQ 372 3047 722 3315 \nQ 1072 3584 1716 3584 \nQ 2034 3584 2315 3537 \nQ 2597 3491 2834 3397 \nz\n\" transform=\"scale(0.015625)\"/>\n     </defs>\n     <use xlink:href=\"#DejaVuSans-74\"/>\n     <use xlink:href=\"#DejaVuSans-72\" x=\"39.208984\"/>\n     <use xlink:href=\"#DejaVuSans-61\" x=\"80.322266\"/>\n     <use xlink:href=\"#DejaVuSans-69\" x=\"141.601562\"/>\n     <use xlink:href=\"#DejaVuSans-6e\" x=\"169.384766\"/>\n     <use xlink:href=\"#DejaVuSans-69\" x=\"232.763672\"/>\n     <use xlink:href=\"#DejaVuSans-6e\" x=\"260.546875\"/>\n     <use xlink:href=\"#DejaVuSans-67\" x=\"323.925781\"/>\n     <use xlink:href=\"#DejaVuSans-20\" x=\"387.402344\"/>\n     <use xlink:href=\"#DejaVuSans-66\" x=\"419.189453\"/>\n     <use xlink:href=\"#DejaVuSans-6f\" x=\"454.394531\"/>\n     <use xlink:href=\"#DejaVuSans-6c\" x=\"515.576172\"/>\n     <use xlink:href=\"#DejaVuSans-64\" x=\"543.359375\"/>\n     <use xlink:href=\"#DejaVuSans-73\" x=\"606.835938\"/>\n    </g>\n   </g>\n   <g id=\"text_2\">\n    <!-- validation fold -->\n    <g transform=\"translate(520.900065 223.537029)scale(0.14 -0.14)\">\n     <defs>\n      <path id=\"DejaVuSans-76\" d=\"M 191 3500 \nL 800 3500 \nL 1894 563 \nL 2988 3500 \nL 3597 3500 \nL 2284 0 \nL 1503 0 \nL 191 3500 \nz\n\" transform=\"scale(0.015625)\"/>\n     </defs>\n     <use xlink:href=\"#DejaVuSans-76\"/>\n     <use xlink:href=\"#DejaVuSans-61\" x=\"59.179688\"/>\n     <use xlink:href=\"#DejaVuSans-6c\" x=\"120.458984\"/>\n     <use xlink:href=\"#DejaVuSans-69\" x=\"148.242188\"/>\n     <use xlink:href=\"#DejaVuSans-64\" x=\"176.025391\"/>\n     <use xlink:href=\"#DejaVuSans-61\" x=\"239.501953\"/>\n     <use xlink:href=\"#DejaVuSans-74\" x=\"300.78125\"/>\n     <use xlink:href=\"#DejaVuSans-69\" x=\"339.990234\"/>\n     <use xlink:href=\"#DejaVuSans-6f\" x=\"367.773438\"/>\n     <use xlink:href=\"#DejaVuSans-6e\" x=\"428.955078\"/>\n     <use xlink:href=\"#DejaVuSans-20\" x=\"492.333984\"/>\n     <use xlink:href=\"#DejaVuSans-66\" x=\"524.121094\"/>\n     <use xlink:href=\"#DejaVuSans-6f\" x=\"559.326172\"/>\n     <use xlink:href=\"#DejaVuSans-6c\" x=\"620.507812\"/>\n     <use xlink:href=\"#DejaVuSans-64\" x=\"648.291016\"/>\n    </g>\n   </g>\n   <g id=\"text_3\">\n    <!-- test set -->\n    <g transform=\"translate(710.102483 223.537029)scale(0.14 -0.14)\">\n     <defs>\n      <path id=\"DejaVuSans-65\" d=\"M 3597 1894 \nL 3597 1613 \nL 953 1613 \nQ 991 1019 1311 708 \nQ 1631 397 2203 397 \nQ 2534 397 2845 478 \nQ 3156 559 3463 722 \nL 3463 178 \nQ 3153 47 2828 -22 \nQ 2503 -91 2169 -91 \nQ 1331 -91 842 396 \nQ 353 884 353 1716 \nQ 353 2575 817 3079 \nQ 1281 3584 2069 3584 \nQ 2775 3584 3186 3129 \nQ 3597 2675 3597 1894 \nz\nM 3022 2063 \nQ 3016 2534 2758 2815 \nQ 2500 3097 2075 3097 \nQ 1594 3097 1305 2825 \nQ 1016 2553 972 2059 \nL 3022 2063 \nz\n\" transform=\"scale(0.015625)\"/>\n     </defs>\n     <use xlink:href=\"#DejaVuSans-74\"/>\n     <use xlink:href=\"#DejaVuSans-65\" x=\"39.208984\"/>\n     <use xlink:href=\"#DejaVuSans-73\" x=\"100.732422\"/>\n     <use xlink:href=\"#DejaVuSans-74\" x=\"152.832031\"/>\n     <use xlink:href=\"#DejaVuSans-20\" x=\"192.041016\"/>\n     <use xlink:href=\"#DejaVuSans-73\" x=\"223.828125\"/>\n     <use xlink:href=\"#DejaVuSans-65\" x=\"275.927734\"/>\n     <use xlink:href=\"#DejaVuSans-74\" x=\"337.451172\"/>\n    </g>\n   </g>\n   <g id=\"patch_5\">\n    <path d=\"M 259.957426 145.302169 \nQ 259.957426 149.884376 259.957426 154.466583 \n\" style=\"fill: none; stroke: #000000; stroke-width: 2; stroke-linecap: round\"/>\n    <path d=\"M 19.957426 158.466583 \nL 19.957426 154.466583 \nL 499.957426 154.466583 \nL 499.957426 158.466583 \n\" style=\"fill: none; stroke: #000000; stroke-width: 2; stroke-linecap: round\"/>\n   </g>\n   <g id=\"text_4\">\n    <g id=\"patch_6\">\n     <path d=\"M 210.682426 142.797762 \nL 309.232426 142.797762 \nL 309.232426 111.441512 \nL 210.682426 111.441512 \nz\n\" style=\"fill: #ffffff; stroke: #000000; stroke-linejoin: miter\"/>\n    </g>\n    <!-- scaler fit -->\n    <g transform=\"translate(216.682426 132.638387)scale(0.2 -0.2)\">\n     <defs>\n      <path id=\"DejaVuSans-63\" d=\"M 3122 3366 \nL 3122 2828 \nQ 2878 2963 2633 3030 \nQ 2388 3097 2138 3097 \nQ 1578 3097 1268 2742 \nQ 959 2388 959 1747 \nQ 959 1106 1268 751 \nQ 1578 397 2138 397 \nQ 2388 397 2633 464 \nQ 2878 531 3122 666 \nL 3122 134 \nQ 2881 22 2623 -34 \nQ 2366 -91 2075 -91 \nQ 1284 -91 818 406 \nQ 353 903 353 1747 \nQ 353 2603 823 3093 \nQ 1294 3584 2113 3584 \nQ 2378 3584 2631 3529 \nQ 2884 3475 3122 3366 \nz\n\" transform=\"scale(0.015625)\"/>\n     </defs>\n     <use xlink:href=\"#DejaVuSans-73\"/>\n     <use xlink:href=\"#DejaVuSans-63\" x=\"52.099609\"/>\n     <use xlink:href=\"#DejaVuSans-61\" x=\"107.080078\"/>\n     <use xlink:href=\"#DejaVuSans-6c\" x=\"168.359375\"/>\n     <use xlink:href=\"#DejaVuSans-65\" x=\"196.142578\"/>\n     <use xlink:href=\"#DejaVuSans-72\" x=\"257.666016\"/>\n     <use xlink:href=\"#DejaVuSans-20\" x=\"298.779297\"/>\n     <use xlink:href=\"#DejaVuSans-66\" x=\"330.566406\"/>\n     <use xlink:href=\"#DejaVuSans-69\" x=\"365.771484\"/>\n     <use xlink:href=\"#DejaVuSans-74\" x=\"393.554688\"/>\n    </g>\n   </g>\n   <g id=\"patch_7\">\n    <path d=\"M 259.957426 61.458346 \nQ 259.957426 72.327419 259.957426 83.196492 \n\" style=\"fill: none; stroke: #000000; stroke-width: 2; stroke-linecap: round\"/>\n    <path d=\"M 19.957426 87.196492 \nL 19.957426 83.196492 \nL 499.957426 83.196492 \nL 499.957426 87.196492 \n\" style=\"fill: none; stroke: #000000; stroke-width: 2; stroke-linecap: round\"/>\n   </g>\n   <g id=\"text_5\">\n    <g id=\"patch_8\">\n     <path d=\"M 220.388676 58.956552 \nL 299.526176 58.956552 \nL 299.526176 27.600302 \nL 220.388676 27.600302 \nz\n\" style=\"fill: #ffffff; stroke: #000000; stroke-linejoin: miter\"/>\n    </g>\n    <!-- SVC fit -->\n    <g transform=\"translate(226.388676 48.797177)scale(0.2 -0.2)\">\n     <defs>\n      <path id=\"DejaVuSans-53\" d=\"M 3425 4513 \nL 3425 3897 \nQ 3066 4069 2747 4153 \nQ 2428 4238 2131 4238 \nQ 1616 4238 1336 4038 \nQ 1056 3838 1056 3469 \nQ 1056 3159 1242 3001 \nQ 1428 2844 1947 2747 \nL 2328 2669 \nQ 3034 2534 3370 2195 \nQ 3706 1856 3706 1288 \nQ 3706 609 3251 259 \nQ 2797 -91 1919 -91 \nQ 1588 -91 1214 -16 \nQ 841 59 441 206 \nL 441 856 \nQ 825 641 1194 531 \nQ 1563 422 1919 422 \nQ 2459 422 2753 634 \nQ 3047 847 3047 1241 \nQ 3047 1584 2836 1778 \nQ 2625 1972 2144 2069 \nL 1759 2144 \nQ 1053 2284 737 2584 \nQ 422 2884 422 3419 \nQ 422 4038 858 4394 \nQ 1294 4750 2059 4750 \nQ 2388 4750 2728 4690 \nQ 3069 4631 3425 4513 \nz\n\" transform=\"scale(0.015625)\"/>\n      <path id=\"DejaVuSans-56\" d=\"M 1831 0 \nL 50 4666 \nL 709 4666 \nL 2188 738 \nL 3669 4666 \nL 4325 4666 \nL 2547 0 \nL 1831 0 \nz\n\" transform=\"scale(0.015625)\"/>\n      <path id=\"DejaVuSans-43\" d=\"M 4122 4306 \nL 4122 3641 \nQ 3803 3938 3442 4084 \nQ 3081 4231 2675 4231 \nQ 1875 4231 1450 3742 \nQ 1025 3253 1025 2328 \nQ 1025 1406 1450 917 \nQ 1875 428 2675 428 \nQ 3081 428 3442 575 \nQ 3803 722 4122 1019 \nL 4122 359 \nQ 3791 134 3420 21 \nQ 3050 -91 2638 -91 \nQ 1578 -91 968 557 \nQ 359 1206 359 2328 \nQ 359 3453 968 4101 \nQ 1578 4750 2638 4750 \nQ 3056 4750 3426 4639 \nQ 3797 4528 4122 4306 \nz\n\" transform=\"scale(0.015625)\"/>\n     </defs>\n     <use xlink:href=\"#DejaVuSans-53\"/>\n     <use xlink:href=\"#DejaVuSans-56\" x=\"63.476562\"/>\n     <use xlink:href=\"#DejaVuSans-43\" x=\"131.884766\"/>\n     <use xlink:href=\"#DejaVuSans-20\" x=\"201.708984\"/>\n     <use xlink:href=\"#DejaVuSans-66\" x=\"233.496094\"/>\n     <use xlink:href=\"#DejaVuSans-69\" x=\"268.701172\"/>\n     <use xlink:href=\"#DejaVuSans-74\" x=\"296.484375\"/>\n    </g>\n   </g>\n   <g id=\"patch_9\">\n    <path d=\"M 566.581188 61.458346 \nQ 566.581188 72.327419 566.581188 83.196492 \n\" style=\"fill: none; stroke: #000000; stroke-width: 2; stroke-linecap: round\"/>\n    <path d=\"M 516.581188 87.196492 \nL 516.581188 83.196492 \nL 616.581188 83.196492 \nL 616.581188 87.196492 \n\" style=\"fill: none; stroke: #000000; stroke-width: 2; stroke-linecap: round\"/>\n   </g>\n   <g id=\"text_6\">\n    <g id=\"patch_10\">\n     <path d=\"M 502.298376 58.956552 \nL 630.864001 58.956552 \nL 630.864001 27.600302 \nL 502.298376 27.600302 \nz\n\" style=\"fill: #ffffff; stroke: #000000; stroke-linejoin: miter\"/>\n    </g>\n    <!-- SVC predict -->\n    <g transform=\"translate(508.298376 48.797177)scale(0.2 -0.2)\">\n     <defs>\n      <path id=\"DejaVuSans-70\" d=\"M 1159 525 \nL 1159 -1331 \nL 581 -1331 \nL 581 3500 \nL 1159 3500 \nL 1159 2969 \nQ 1341 3281 1617 3432 \nQ 1894 3584 2278 3584 \nQ 2916 3584 3314 3078 \nQ 3713 2572 3713 1747 \nQ 3713 922 3314 415 \nQ 2916 -91 2278 -91 \nQ 1894 -91 1617 61 \nQ 1341 213 1159 525 \nz\nM 3116 1747 \nQ 3116 2381 2855 2742 \nQ 2594 3103 2138 3103 \nQ 1681 3103 1420 2742 \nQ 1159 2381 1159 1747 \nQ 1159 1113 1420 752 \nQ 1681 391 2138 391 \nQ 2594 391 2855 752 \nQ 3116 1113 3116 1747 \nz\n\" transform=\"scale(0.015625)\"/>\n     </defs>\n     <use xlink:href=\"#DejaVuSans-53\"/>\n     <use xlink:href=\"#DejaVuSans-56\" x=\"63.476562\"/>\n     <use xlink:href=\"#DejaVuSans-43\" x=\"131.884766\"/>\n     <use xlink:href=\"#DejaVuSans-20\" x=\"201.708984\"/>\n     <use xlink:href=\"#DejaVuSans-70\" x=\"233.496094\"/>\n     <use xlink:href=\"#DejaVuSans-72\" x=\"296.972656\"/>\n     <use xlink:href=\"#DejaVuSans-65\" x=\"335.835938\"/>\n     <use xlink:href=\"#DejaVuSans-64\" x=\"397.359375\"/>\n     <use xlink:href=\"#DejaVuSans-69\" x=\"460.835938\"/>\n     <use xlink:href=\"#DejaVuSans-63\" x=\"488.619141\"/>\n     <use xlink:href=\"#DejaVuSans-74\" x=\"543.599609\"/>\n    </g>\n   </g>\n   <g id=\"text_7\">\n    <!-- Cross validation -->\n    <g transform=\"translate(377.80875 16.318125)scale(0.12 -0.12)\">\n     <use xlink:href=\"#DejaVuSans-43\"/>\n     <use xlink:href=\"#DejaVuSans-72\" x=\"69.824219\"/>\n     <use xlink:href=\"#DejaVuSans-6f\" x=\"108.6875\"/>\n     <use xlink:href=\"#DejaVuSans-73\" x=\"169.869141\"/>\n     <use xlink:href=\"#DejaVuSans-73\" x=\"221.96875\"/>\n     <use xlink:href=\"#DejaVuSans-20\" x=\"274.068359\"/>\n     <use xlink:href=\"#DejaVuSans-76\" x=\"305.855469\"/>\n     <use xlink:href=\"#DejaVuSans-61\" x=\"365.035156\"/>\n     <use xlink:href=\"#DejaVuSans-6c\" x=\"426.314453\"/>\n     <use xlink:href=\"#DejaVuSans-69\" x=\"454.097656\"/>\n     <use xlink:href=\"#DejaVuSans-64\" x=\"481.880859\"/>\n     <use xlink:href=\"#DejaVuSans-61\" x=\"545.357422\"/>\n     <use xlink:href=\"#DejaVuSans-74\" x=\"606.636719\"/>\n     <use xlink:href=\"#DejaVuSans-69\" x=\"645.845703\"/>\n     <use xlink:href=\"#DejaVuSans-6f\" x=\"673.628906\"/>\n     <use xlink:href=\"#DejaVuSans-6e\" x=\"734.810547\"/>\n    </g>\n   </g>\n  </g>\n  <g id=\"axes_2\">\n   <g id=\"patch_11\">\n    <path d=\"M 11.343564 478.414306 \nL 504.427723 478.414306 \nL 504.427723 444.877823 \nL 11.343564 444.877823 \nz\n\" clip-path=\"url(#p8470cd2977)\" style=\"fill: url(#h5579cb1c20)\"/>\n   </g>\n   <g id=\"patch_12\">\n    <path d=\"M 508.571287 478.414306 \nL 628.734653 478.414306 \nL 628.734653 444.877823 \nL 508.571287 444.877823 \nz\n\" clip-path=\"url(#p8470cd2977)\" style=\"fill: url(#hf6d6b3aa96)\"/>\n   </g>\n   <g id=\"patch_13\">\n    <path d=\"M 632.878218 478.414306 \nL 835.912871 478.414306 \nL 835.912871 444.877823 \nL 632.878218 444.877823 \nz\n\" clip-path=\"url(#p8470cd2977)\" style=\"fill: #808080\"/>\n   </g>\n   <g id=\"matplotlib.axis_3\"/>\n   <g id=\"matplotlib.axis_4\"/>\n   <g id=\"text_8\">\n    <!-- training folds -->\n    <g transform=\"translate(213.832894 474.222246)scale(0.14 -0.14)\">\n     <use xlink:href=\"#DejaVuSans-74\"/>\n     <use xlink:href=\"#DejaVuSans-72\" x=\"39.208984\"/>\n     <use xlink:href=\"#DejaVuSans-61\" x=\"80.322266\"/>\n     <use xlink:href=\"#DejaVuSans-69\" x=\"141.601562\"/>\n     <use xlink:href=\"#DejaVuSans-6e\" x=\"169.384766\"/>\n     <use xlink:href=\"#DejaVuSans-69\" x=\"232.763672\"/>\n     <use xlink:href=\"#DejaVuSans-6e\" x=\"260.546875\"/>\n     <use xlink:href=\"#DejaVuSans-67\" x=\"323.925781\"/>\n     <use xlink:href=\"#DejaVuSans-20\" x=\"387.402344\"/>\n     <use xlink:href=\"#DejaVuSans-66\" x=\"419.189453\"/>\n     <use xlink:href=\"#DejaVuSans-6f\" x=\"454.394531\"/>\n     <use xlink:href=\"#DejaVuSans-6c\" x=\"515.576172\"/>\n     <use xlink:href=\"#DejaVuSans-64\" x=\"543.359375\"/>\n     <use xlink:href=\"#DejaVuSans-73\" x=\"606.835938\"/>\n    </g>\n   </g>\n   <g id=\"text_9\">\n    <!-- validation fold -->\n    <g transform=\"translate(520.900065 474.222246)scale(0.14 -0.14)\">\n     <use xlink:href=\"#DejaVuSans-76\"/>\n     <use xlink:href=\"#DejaVuSans-61\" x=\"59.179688\"/>\n     <use xlink:href=\"#DejaVuSans-6c\" x=\"120.458984\"/>\n     <use xlink:href=\"#DejaVuSans-69\" x=\"148.242188\"/>\n     <use xlink:href=\"#DejaVuSans-64\" x=\"176.025391\"/>\n     <use xlink:href=\"#DejaVuSans-61\" x=\"239.501953\"/>\n     <use xlink:href=\"#DejaVuSans-74\" x=\"300.78125\"/>\n     <use xlink:href=\"#DejaVuSans-69\" x=\"339.990234\"/>\n     <use xlink:href=\"#DejaVuSans-6f\" x=\"367.773438\"/>\n     <use xlink:href=\"#DejaVuSans-6e\" x=\"428.955078\"/>\n     <use xlink:href=\"#DejaVuSans-20\" x=\"492.333984\"/>\n     <use xlink:href=\"#DejaVuSans-66\" x=\"524.121094\"/>\n     <use xlink:href=\"#DejaVuSans-6f\" x=\"559.326172\"/>\n     <use xlink:href=\"#DejaVuSans-6c\" x=\"620.507812\"/>\n     <use xlink:href=\"#DejaVuSans-64\" x=\"648.291016\"/>\n    </g>\n   </g>\n   <g id=\"text_10\">\n    <!-- test set -->\n    <g transform=\"translate(710.102483 474.222246)scale(0.14 -0.14)\">\n     <use xlink:href=\"#DejaVuSans-74\"/>\n     <use xlink:href=\"#DejaVuSans-65\" x=\"39.208984\"/>\n     <use xlink:href=\"#DejaVuSans-73\" x=\"100.732422\"/>\n     <use xlink:href=\"#DejaVuSans-74\" x=\"152.832031\"/>\n     <use xlink:href=\"#DejaVuSans-20\" x=\"192.041016\"/>\n     <use xlink:href=\"#DejaVuSans-73\" x=\"223.828125\"/>\n     <use xlink:href=\"#DejaVuSans-65\" x=\"275.927734\"/>\n     <use xlink:href=\"#DejaVuSans-74\" x=\"337.451172\"/>\n    </g>\n   </g>\n   <g id=\"patch_14\">\n    <path d=\"M 322.110891 395.987386 \nQ 322.110891 400.569593 322.110891 405.151801 \n\" style=\"fill: none; stroke: #000000; stroke-width: 2; stroke-linecap: round\"/>\n    <path d=\"M 22.110891 409.151801 \nL 22.110891 405.151801 \nL 622.110891 405.151801 \nL 622.110891 409.151801 \n\" style=\"fill: none; stroke: #000000; stroke-width: 2; stroke-linecap: round\"/>\n   </g>\n   <g id=\"text_11\">\n    <g id=\"patch_15\">\n     <path d=\"M 272.835891 393.48298 \nL 371.385891 393.48298 \nL 371.385891 362.12673 \nL 272.835891 362.12673 \nz\n\" style=\"fill: #ffffff; stroke: #000000; stroke-linejoin: miter\"/>\n    </g>\n    <!-- scaler fit -->\n    <g transform=\"translate(278.835891 383.323605)scale(0.2 -0.2)\">\n     <use xlink:href=\"#DejaVuSans-73\"/>\n     <use xlink:href=\"#DejaVuSans-63\" x=\"52.099609\"/>\n     <use xlink:href=\"#DejaVuSans-61\" x=\"107.080078\"/>\n     <use xlink:href=\"#DejaVuSans-6c\" x=\"168.359375\"/>\n     <use xlink:href=\"#DejaVuSans-65\" x=\"196.142578\"/>\n     <use xlink:href=\"#DejaVuSans-72\" x=\"257.666016\"/>\n     <use xlink:href=\"#DejaVuSans-20\" x=\"298.779297\"/>\n     <use xlink:href=\"#DejaVuSans-66\" x=\"330.566406\"/>\n     <use xlink:href=\"#DejaVuSans-69\" x=\"365.771484\"/>\n     <use xlink:href=\"#DejaVuSans-74\" x=\"393.554688\"/>\n    </g>\n   </g>\n   <g id=\"patch_16\">\n    <path d=\"M 322.110891 312.143563 \nQ 322.110891 323.012636 322.110891 333.881709 \n\" style=\"fill: none; stroke: #000000; stroke-width: 2; stroke-linecap: round\"/>\n    <path d=\"M 22.110891 337.881709 \nL 22.110891 333.881709 \nL 622.110891 333.881709 \nL 622.110891 337.881709 \n\" style=\"fill: none; stroke: #000000; stroke-width: 2; stroke-linecap: round\"/>\n   </g>\n   <g id=\"text_12\">\n    <g id=\"patch_17\">\n     <path d=\"M 282.542141 309.64177 \nL 361.679641 309.64177 \nL 361.679641 278.28552 \nL 282.542141 278.28552 \nz\n\" style=\"fill: #ffffff; stroke: #000000; stroke-linejoin: miter\"/>\n    </g>\n    <!-- SVC fit -->\n    <g transform=\"translate(288.542141 299.482395)scale(0.2 -0.2)\">\n     <use xlink:href=\"#DejaVuSans-53\"/>\n     <use xlink:href=\"#DejaVuSans-56\" x=\"63.476562\"/>\n     <use xlink:href=\"#DejaVuSans-43\" x=\"131.884766\"/>\n     <use xlink:href=\"#DejaVuSans-20\" x=\"201.708984\"/>\n     <use xlink:href=\"#DejaVuSans-66\" x=\"233.496094\"/>\n     <use xlink:href=\"#DejaVuSans-69\" x=\"268.701172\"/>\n     <use xlink:href=\"#DejaVuSans-74\" x=\"296.484375\"/>\n    </g>\n   </g>\n   <g id=\"patch_18\">\n    <path d=\"M 736.467327 312.143563 \nQ 736.467327 323.012636 736.467327 333.881709 \n\" style=\"fill: none; stroke: #000000; stroke-width: 2; stroke-linecap: round\"/>\n    <path d=\"M 640.467327 337.881709 \nL 640.467327 333.881709 \nL 832.467327 333.881709 \nL 832.467327 337.881709 \n\" style=\"fill: none; stroke: #000000; stroke-width: 2; stroke-linecap: round\"/>\n   </g>\n   <g id=\"text_13\">\n    <g id=\"patch_19\">\n     <path d=\"M 672.184514 309.64177 \nL 800.750139 309.64177 \nL 800.750139 278.28552 \nL 672.184514 278.28552 \nz\n\" style=\"fill: #ffffff; stroke: #000000; stroke-linejoin: miter\"/>\n    </g>\n    <!-- SVC predict -->\n    <g transform=\"translate(678.184514 299.482395)scale(0.2 -0.2)\">\n     <use xlink:href=\"#DejaVuSans-53\"/>\n     <use xlink:href=\"#DejaVuSans-56\" x=\"63.476562\"/>\n     <use xlink:href=\"#DejaVuSans-43\" x=\"131.884766\"/>\n     <use xlink:href=\"#DejaVuSans-20\" x=\"201.708984\"/>\n     <use xlink:href=\"#DejaVuSans-70\" x=\"233.496094\"/>\n     <use xlink:href=\"#DejaVuSans-72\" x=\"296.972656\"/>\n     <use xlink:href=\"#DejaVuSans-65\" x=\"335.835938\"/>\n     <use xlink:href=\"#DejaVuSans-64\" x=\"397.359375\"/>\n     <use xlink:href=\"#DejaVuSans-69\" x=\"460.835938\"/>\n     <use xlink:href=\"#DejaVuSans-63\" x=\"488.619141\"/>\n     <use xlink:href=\"#DejaVuSans-74\" x=\"543.599609\"/>\n    </g>\n   </g>\n   <g id=\"text_14\">\n    <!-- Test set prediction -->\n    <g transform=\"translate(370.801875 267.003342)scale(0.12 -0.12)\">\n     <defs>\n      <path id=\"DejaVuSans-54\" d=\"M -19 4666 \nL 3928 4666 \nL 3928 4134 \nL 2272 4134 \nL 2272 0 \nL 1638 0 \nL 1638 4134 \nL -19 4134 \nL -19 4666 \nz\n\" transform=\"scale(0.015625)\"/>\n     </defs>\n     <use xlink:href=\"#DejaVuSans-54\"/>\n     <use xlink:href=\"#DejaVuSans-65\" x=\"44.083984\"/>\n     <use xlink:href=\"#DejaVuSans-73\" x=\"105.607422\"/>\n     <use xlink:href=\"#DejaVuSans-74\" x=\"157.707031\"/>\n     <use xlink:href=\"#DejaVuSans-20\" x=\"196.916016\"/>\n     <use xlink:href=\"#DejaVuSans-73\" x=\"228.703125\"/>\n     <use xlink:href=\"#DejaVuSans-65\" x=\"280.802734\"/>\n     <use xlink:href=\"#DejaVuSans-74\" x=\"342.326172\"/>\n     <use xlink:href=\"#DejaVuSans-20\" x=\"381.535156\"/>\n     <use xlink:href=\"#DejaVuSans-70\" x=\"413.322266\"/>\n     <use xlink:href=\"#DejaVuSans-72\" x=\"476.798828\"/>\n     <use xlink:href=\"#DejaVuSans-65\" x=\"515.662109\"/>\n     <use xlink:href=\"#DejaVuSans-64\" x=\"577.185547\"/>\n     <use xlink:href=\"#DejaVuSans-69\" x=\"640.662109\"/>\n     <use xlink:href=\"#DejaVuSans-63\" x=\"668.445312\"/>\n     <use xlink:href=\"#DejaVuSans-74\" x=\"723.425781\"/>\n     <use xlink:href=\"#DejaVuSans-69\" x=\"762.634766\"/>\n     <use xlink:href=\"#DejaVuSans-6f\" x=\"790.417969\"/>\n     <use xlink:href=\"#DejaVuSans-6e\" x=\"851.599609\"/>\n    </g>\n   </g>\n  </g>\n </g>\n <defs>\n  <clipPath id=\"pf82cdf9991\">\n   <rect x=\"7.2\" y=\"22.318125\" width=\"837\" height=\"192.834783\"/>\n  </clipPath>\n  <clipPath id=\"p8470cd2977\">\n   <rect x=\"7.2\" y=\"273.003342\" width=\"837\" height=\"192.834783\"/>\n  </clipPath>\n </defs>\n <defs>\n  <pattern id=\"h5579cb1c20\" patternUnits=\"userSpaceOnUse\" x=\"0\" y=\"0\" width=\"72\" height=\"72\">\n   <rect x=\"0\" y=\"0\" width=\"73\" height=\"73\" fill=\"#ffffff\"/>\n   <path d=\"M -36 36 \nL 36 -36 \nM -30 42 \nL 42 -30 \nM -24 48 \nL 48 -24 \nM -18 54 \nL 54 -18 \nM -12 60 \nL 60 -12 \nM -6 66 \nL 66 -6 \nM 0 72 \nL 72 0 \nM 6 78 \nL 78 6 \nM 12 84 \nL 84 12 \nM 18 90 \nL 90 18 \nM 24 96 \nL 96 24 \nM 30 102 \nL 102 30 \nM 36 108 \nL 108 36 \n\" style=\"fill: #000000; stroke: #000000; stroke-width: 1.0; stroke-linecap: butt; stroke-linejoin: miter\"/>\n  </pattern>\n  <pattern id=\"hf6d6b3aa96\" patternUnits=\"userSpaceOnUse\" x=\"0\" y=\"0\" width=\"72\" height=\"72\">\n   <rect x=\"0\" y=\"0\" width=\"73\" height=\"73\" fill=\"#808080\"/>\n   <path d=\"M -36 36 \nL 36 -36 \nM -30 42 \nL 42 -30 \nM -24 48 \nL 48 -24 \nM -18 54 \nL 54 -18 \nM -12 60 \nL 60 -12 \nM -6 66 \nL 66 -6 \nM 0 72 \nL 72 0 \nM 6 78 \nL 78 6 \nM 12 84 \nL 84 12 \nM 18 90 \nL 90 18 \nM 24 96 \nL 96 24 \nM 30 102 \nL 102 30 \nM 36 108 \nL 108 36 \n\" style=\"fill: #000000; stroke: #000000; stroke-width: 1.0; stroke-linecap: butt; stroke-linejoin: miter\"/>\n  </pattern>\n </defs>\n</svg>\n",
      "text/plain": [
       "<Figure size 1500x800 with 2 Axes>"
      ]
     },
     "metadata": {},
     "output_type": "display_data"
    }
   ],
   "source": [
    "mglearn.plots.plot_proper_processing()"
   ]
  },
  {
   "attachments": {},
   "cell_type": "markdown",
   "metadata": {},
   "source": [
    "## The General Pipeline Interface"
   ]
  },
  {
   "cell_type": "code",
   "execution_count": 12,
   "metadata": {},
   "outputs": [],
   "source": [
    "def fit(self, X, y):\n",
    "    X_transformed = X\n",
    "    for name, estimator in self.steps[:-1]:\n",
    "        # iterate over all but the final step\n",
    "        # fit and transform the data\n",
    "        X_transformed = estimator.fit_transform(X_transformed, y)\n",
    "\n",
    "    # fit the last step\n",
    "    self.steps[-1][1].fit(X_transformed, y)\n",
    "    return self"
   ]
  },
  {
   "cell_type": "code",
   "execution_count": 13,
   "metadata": {},
   "outputs": [],
   "source": [
    "def predict(self, X):\n",
    "    X_transformed = X\n",
    "    for step in self.steps[:-1]:\n",
    "        # iterate over all but the final step\n",
    "        # transform the data\n",
    "        X_transformed = step[1].transform(X_transformed)\n",
    "\n",
    "    # fit the last step\n",
    "    return self.steps[-1][1].predict(X_transformed)"
   ]
  },
  {
   "cell_type": "code",
   "execution_count": 14,
   "metadata": {},
   "outputs": [
    {
     "name": "stdout",
     "output_type": "stream",
     "text": [
      "Pipeline steps:\n",
      "[('minmaxscaler', MinMaxScaler()), ('svc', SVC(C=100))]\n"
     ]
    }
   ],
   "source": [
    "from sklearn.pipeline import make_pipeline\n",
    "# standard syntax\n",
    "pipe_long = Pipeline([(\"scaler\", MinMaxScaler()), (\"svm\", SVC(C=100))])\n",
    "# abbreviated syntax\n",
    "pipe_short = make_pipeline(MinMaxScaler(), SVC(C=100))\n",
    "print(\"Pipeline steps:\\n{}\".format(pipe_short.steps))"
   ]
  },
  {
   "cell_type": "code",
   "execution_count": 15,
   "metadata": {},
   "outputs": [
    {
     "name": "stdout",
     "output_type": "stream",
     "text": [
      "Pipeline steps:\n",
      "[('standardscaler-1', StandardScaler()), ('pca', PCA(n_components=2)), ('standardscaler-2', StandardScaler())]\n"
     ]
    }
   ],
   "source": [
    "from sklearn.preprocessing import StandardScaler\n",
    "from sklearn.decomposition import PCA\n",
    "pipe = make_pipeline(StandardScaler(), PCA(n_components=2), StandardScaler())\n",
    "print(\"Pipeline steps:\\n{}\".format(pipe.steps))"
   ]
  },
  {
   "cell_type": "code",
   "execution_count": 16,
   "metadata": {},
   "outputs": [
    {
     "name": "stdout",
     "output_type": "stream",
     "text": [
      "components.shape: (2, 30)\n"
     ]
    }
   ],
   "source": [
    "# fit the pipeline defined before to the cancer dataset\n",
    "pipe.fit(cancer.data)\n",
    "# extract the first two principal components from the \"pca\" step\n",
    "components = pipe.named_steps[\"pca\"].components_\n",
    "print(\"components.shape: {}\".format(components.shape))"
   ]
  },
  {
   "cell_type": "code",
   "execution_count": 17,
   "metadata": {},
   "outputs": [
    {
     "data": {
      "text/html": [
       "<style>#sk-container-id-1 {color: black;background-color: white;}#sk-container-id-1 pre{padding: 0;}#sk-container-id-1 div.sk-toggleable {background-color: white;}#sk-container-id-1 label.sk-toggleable__label {cursor: pointer;display: block;width: 100%;margin-bottom: 0;padding: 0.3em;box-sizing: border-box;text-align: center;}#sk-container-id-1 label.sk-toggleable__label-arrow:before {content: \"▸\";float: left;margin-right: 0.25em;color: #696969;}#sk-container-id-1 label.sk-toggleable__label-arrow:hover:before {color: black;}#sk-container-id-1 div.sk-estimator:hover label.sk-toggleable__label-arrow:before {color: black;}#sk-container-id-1 div.sk-toggleable__content {max-height: 0;max-width: 0;overflow: hidden;text-align: left;background-color: #f0f8ff;}#sk-container-id-1 div.sk-toggleable__content pre {margin: 0.2em;color: black;border-radius: 0.25em;background-color: #f0f8ff;}#sk-container-id-1 input.sk-toggleable__control:checked~div.sk-toggleable__content {max-height: 200px;max-width: 100%;overflow: auto;}#sk-container-id-1 input.sk-toggleable__control:checked~label.sk-toggleable__label-arrow:before {content: \"▾\";}#sk-container-id-1 div.sk-estimator input.sk-toggleable__control:checked~label.sk-toggleable__label {background-color: #d4ebff;}#sk-container-id-1 div.sk-label input.sk-toggleable__control:checked~label.sk-toggleable__label {background-color: #d4ebff;}#sk-container-id-1 input.sk-hidden--visually {border: 0;clip: rect(1px 1px 1px 1px);clip: rect(1px, 1px, 1px, 1px);height: 1px;margin: -1px;overflow: hidden;padding: 0;position: absolute;width: 1px;}#sk-container-id-1 div.sk-estimator {font-family: monospace;background-color: #f0f8ff;border: 1px dotted black;border-radius: 0.25em;box-sizing: border-box;margin-bottom: 0.5em;}#sk-container-id-1 div.sk-estimator:hover {background-color: #d4ebff;}#sk-container-id-1 div.sk-parallel-item::after {content: \"\";width: 100%;border-bottom: 1px solid gray;flex-grow: 1;}#sk-container-id-1 div.sk-label:hover label.sk-toggleable__label {background-color: #d4ebff;}#sk-container-id-1 div.sk-serial::before {content: \"\";position: absolute;border-left: 1px solid gray;box-sizing: border-box;top: 0;bottom: 0;left: 50%;z-index: 0;}#sk-container-id-1 div.sk-serial {display: flex;flex-direction: column;align-items: center;background-color: white;padding-right: 0.2em;padding-left: 0.2em;position: relative;}#sk-container-id-1 div.sk-item {position: relative;z-index: 1;}#sk-container-id-1 div.sk-parallel {display: flex;align-items: stretch;justify-content: center;background-color: white;position: relative;}#sk-container-id-1 div.sk-item::before, #sk-container-id-1 div.sk-parallel-item::before {content: \"\";position: absolute;border-left: 1px solid gray;box-sizing: border-box;top: 0;bottom: 0;left: 50%;z-index: -1;}#sk-container-id-1 div.sk-parallel-item {display: flex;flex-direction: column;z-index: 1;position: relative;background-color: white;}#sk-container-id-1 div.sk-parallel-item:first-child::after {align-self: flex-end;width: 50%;}#sk-container-id-1 div.sk-parallel-item:last-child::after {align-self: flex-start;width: 50%;}#sk-container-id-1 div.sk-parallel-item:only-child::after {width: 0;}#sk-container-id-1 div.sk-dashed-wrapped {border: 1px dashed gray;margin: 0 0.4em 0.5em 0.4em;box-sizing: border-box;padding-bottom: 0.4em;background-color: white;}#sk-container-id-1 div.sk-label label {font-family: monospace;font-weight: bold;display: inline-block;line-height: 1.2em;}#sk-container-id-1 div.sk-label-container {text-align: center;}#sk-container-id-1 div.sk-container {/* jupyter's `normalize.less` sets `[hidden] { display: none; }` but bootstrap.min.css set `[hidden] { display: none !important; }` so we also need the `!important` here to be able to override the default hidden behavior on the sphinx rendered scikit-learn.org. See: https://github.com/scikit-learn/scikit-learn/issues/21755 */display: inline-block !important;position: relative;}#sk-container-id-1 div.sk-text-repr-fallback {display: none;}</style><div id=\"sk-container-id-1\" class=\"sk-top-container\"><div class=\"sk-text-repr-fallback\"><pre>GridSearchCV(cv=5,\n",
       "             estimator=Pipeline(steps=[(&#x27;standardscaler&#x27;, StandardScaler()),\n",
       "                                       (&#x27;logisticregression&#x27;,\n",
       "                                        LogisticRegression(max_iter=10000))]),\n",
       "             param_grid={&#x27;logisticregression__C&#x27;: [0.01, 0.1, 1, 10, 100]})</pre><b>In a Jupyter environment, please rerun this cell to show the HTML representation or trust the notebook. <br />On GitHub, the HTML representation is unable to render, please try loading this page with nbviewer.org.</b></div><div class=\"sk-container\" hidden><div class=\"sk-item sk-dashed-wrapped\"><div class=\"sk-label-container\"><div class=\"sk-label sk-toggleable\"><input class=\"sk-toggleable__control sk-hidden--visually\" id=\"sk-estimator-id-1\" type=\"checkbox\" ><label for=\"sk-estimator-id-1\" class=\"sk-toggleable__label sk-toggleable__label-arrow\">GridSearchCV</label><div class=\"sk-toggleable__content\"><pre>GridSearchCV(cv=5,\n",
       "             estimator=Pipeline(steps=[(&#x27;standardscaler&#x27;, StandardScaler()),\n",
       "                                       (&#x27;logisticregression&#x27;,\n",
       "                                        LogisticRegression(max_iter=10000))]),\n",
       "             param_grid={&#x27;logisticregression__C&#x27;: [0.01, 0.1, 1, 10, 100]})</pre></div></div></div><div class=\"sk-parallel\"><div class=\"sk-parallel-item\"><div class=\"sk-item\"><div class=\"sk-label-container\"><div class=\"sk-label sk-toggleable\"><input class=\"sk-toggleable__control sk-hidden--visually\" id=\"sk-estimator-id-2\" type=\"checkbox\" ><label for=\"sk-estimator-id-2\" class=\"sk-toggleable__label sk-toggleable__label-arrow\">estimator: Pipeline</label><div class=\"sk-toggleable__content\"><pre>Pipeline(steps=[(&#x27;standardscaler&#x27;, StandardScaler()),\n",
       "                (&#x27;logisticregression&#x27;, LogisticRegression(max_iter=10000))])</pre></div></div></div><div class=\"sk-serial\"><div class=\"sk-item\"><div class=\"sk-serial\"><div class=\"sk-item\"><div class=\"sk-estimator sk-toggleable\"><input class=\"sk-toggleable__control sk-hidden--visually\" id=\"sk-estimator-id-3\" type=\"checkbox\" ><label for=\"sk-estimator-id-3\" class=\"sk-toggleable__label sk-toggleable__label-arrow\">StandardScaler</label><div class=\"sk-toggleable__content\"><pre>StandardScaler()</pre></div></div></div><div class=\"sk-item\"><div class=\"sk-estimator sk-toggleable\"><input class=\"sk-toggleable__control sk-hidden--visually\" id=\"sk-estimator-id-4\" type=\"checkbox\" ><label for=\"sk-estimator-id-4\" class=\"sk-toggleable__label sk-toggleable__label-arrow\">LogisticRegression</label><div class=\"sk-toggleable__content\"><pre>LogisticRegression(max_iter=10000)</pre></div></div></div></div></div></div></div></div></div></div></div></div>"
      ],
      "text/plain": [
       "GridSearchCV(cv=5,\n",
       "             estimator=Pipeline(steps=[('standardscaler', StandardScaler()),\n",
       "                                       ('logisticregression',\n",
       "                                        LogisticRegression(max_iter=10000))]),\n",
       "             param_grid={'logisticregression__C': [0.01, 0.1, 1, 10, 100]})"
      ]
     },
     "execution_count": 17,
     "metadata": {},
     "output_type": "execute_result"
    }
   ],
   "source": [
    "from sklearn.linear_model import LogisticRegression\n",
    "pipe = make_pipeline(StandardScaler(), LogisticRegression(max_iter=10000))\n",
    "param_grid = {'logisticregression__C': [0.01, 0.1, 1, 10, 100]}\n",
    "X_train, X_test, y_train, y_test = train_test_split(\n",
    "    cancer.data, cancer.target, random_state=4)\n",
    "grid = GridSearchCV(pipe, param_grid, cv=5)\n",
    "grid.fit(X_train, y_train)"
   ]
  },
  {
   "cell_type": "code",
   "execution_count": 18,
   "metadata": {},
   "outputs": [
    {
     "name": "stdout",
     "output_type": "stream",
     "text": [
      "Best estimator:\n",
      "Pipeline(steps=[('standardscaler', StandardScaler()),\n",
      "                ('logisticregression',\n",
      "                 LogisticRegression(C=1, max_iter=10000))])\n"
     ]
    }
   ],
   "source": [
    "print(\"Best estimator:\\n{}\".format(grid.best_estimator_))"
   ]
  },
  {
   "cell_type": "code",
   "execution_count": 19,
   "metadata": {},
   "outputs": [
    {
     "name": "stdout",
     "output_type": "stream",
     "text": [
      "Logistic regression step:\n",
      "LogisticRegression(C=1, max_iter=10000)\n"
     ]
    }
   ],
   "source": [
    "print(\"Logistic regression step:\\n{}\".format(\n",
    "    grid.best_estimator_.named_steps[\"logisticregression\"]))"
   ]
  },
  {
   "cell_type": "code",
   "execution_count": 20,
   "metadata": {},
   "outputs": [
    {
     "name": "stdout",
     "output_type": "stream",
     "text": [
      "Logistic regression coefficients:\n",
      "[[-0.43570655 -0.34266946 -0.40809443 -0.5344574  -0.14971847  0.61034122\n",
      "  -0.72634347 -0.78538827  0.03886087  0.27497198 -1.29780109  0.04926005\n",
      "  -0.67336941 -0.93447426 -0.13939555  0.45032641 -0.13009864 -0.10144273\n",
      "   0.43432027  0.71596578 -1.09068862 -1.09463976 -0.85183755 -1.06406198\n",
      "  -0.74316099  0.07252425 -0.82323903 -0.65321239 -0.64379499 -0.42026013]]\n"
     ]
    }
   ],
   "source": [
    "print(\"Logistic regression coefficients:\\n{}\".format(\n",
    "    grid.best_estimator_.named_steps[\"logisticregression\"].coef_))"
   ]
  },
  {
   "attachments": {},
   "cell_type": "markdown",
   "metadata": {},
   "source": [
    "## Grid-Searching Preprocessing Steps and Model Parameters"
   ]
  },
  {
   "cell_type": "code",
   "execution_count": 21,
   "metadata": {},
   "outputs": [
    {
     "data": {
      "text/html": [
       "<style>#sk-container-id-2 {color: black;background-color: white;}#sk-container-id-2 pre{padding: 0;}#sk-container-id-2 div.sk-toggleable {background-color: white;}#sk-container-id-2 label.sk-toggleable__label {cursor: pointer;display: block;width: 100%;margin-bottom: 0;padding: 0.3em;box-sizing: border-box;text-align: center;}#sk-container-id-2 label.sk-toggleable__label-arrow:before {content: \"▸\";float: left;margin-right: 0.25em;color: #696969;}#sk-container-id-2 label.sk-toggleable__label-arrow:hover:before {color: black;}#sk-container-id-2 div.sk-estimator:hover label.sk-toggleable__label-arrow:before {color: black;}#sk-container-id-2 div.sk-toggleable__content {max-height: 0;max-width: 0;overflow: hidden;text-align: left;background-color: #f0f8ff;}#sk-container-id-2 div.sk-toggleable__content pre {margin: 0.2em;color: black;border-radius: 0.25em;background-color: #f0f8ff;}#sk-container-id-2 input.sk-toggleable__control:checked~div.sk-toggleable__content {max-height: 200px;max-width: 100%;overflow: auto;}#sk-container-id-2 input.sk-toggleable__control:checked~label.sk-toggleable__label-arrow:before {content: \"▾\";}#sk-container-id-2 div.sk-estimator input.sk-toggleable__control:checked~label.sk-toggleable__label {background-color: #d4ebff;}#sk-container-id-2 div.sk-label input.sk-toggleable__control:checked~label.sk-toggleable__label {background-color: #d4ebff;}#sk-container-id-2 input.sk-hidden--visually {border: 0;clip: rect(1px 1px 1px 1px);clip: rect(1px, 1px, 1px, 1px);height: 1px;margin: -1px;overflow: hidden;padding: 0;position: absolute;width: 1px;}#sk-container-id-2 div.sk-estimator {font-family: monospace;background-color: #f0f8ff;border: 1px dotted black;border-radius: 0.25em;box-sizing: border-box;margin-bottom: 0.5em;}#sk-container-id-2 div.sk-estimator:hover {background-color: #d4ebff;}#sk-container-id-2 div.sk-parallel-item::after {content: \"\";width: 100%;border-bottom: 1px solid gray;flex-grow: 1;}#sk-container-id-2 div.sk-label:hover label.sk-toggleable__label {background-color: #d4ebff;}#sk-container-id-2 div.sk-serial::before {content: \"\";position: absolute;border-left: 1px solid gray;box-sizing: border-box;top: 0;bottom: 0;left: 50%;z-index: 0;}#sk-container-id-2 div.sk-serial {display: flex;flex-direction: column;align-items: center;background-color: white;padding-right: 0.2em;padding-left: 0.2em;position: relative;}#sk-container-id-2 div.sk-item {position: relative;z-index: 1;}#sk-container-id-2 div.sk-parallel {display: flex;align-items: stretch;justify-content: center;background-color: white;position: relative;}#sk-container-id-2 div.sk-item::before, #sk-container-id-2 div.sk-parallel-item::before {content: \"\";position: absolute;border-left: 1px solid gray;box-sizing: border-box;top: 0;bottom: 0;left: 50%;z-index: -1;}#sk-container-id-2 div.sk-parallel-item {display: flex;flex-direction: column;z-index: 1;position: relative;background-color: white;}#sk-container-id-2 div.sk-parallel-item:first-child::after {align-self: flex-end;width: 50%;}#sk-container-id-2 div.sk-parallel-item:last-child::after {align-self: flex-start;width: 50%;}#sk-container-id-2 div.sk-parallel-item:only-child::after {width: 0;}#sk-container-id-2 div.sk-dashed-wrapped {border: 1px dashed gray;margin: 0 0.4em 0.5em 0.4em;box-sizing: border-box;padding-bottom: 0.4em;background-color: white;}#sk-container-id-2 div.sk-label label {font-family: monospace;font-weight: bold;display: inline-block;line-height: 1.2em;}#sk-container-id-2 div.sk-label-container {text-align: center;}#sk-container-id-2 div.sk-container {/* jupyter's `normalize.less` sets `[hidden] { display: none; }` but bootstrap.min.css set `[hidden] { display: none !important; }` so we also need the `!important` here to be able to override the default hidden behavior on the sphinx rendered scikit-learn.org. See: https://github.com/scikit-learn/scikit-learn/issues/21755 */display: inline-block !important;position: relative;}#sk-container-id-2 div.sk-text-repr-fallback {display: none;}</style><div id=\"sk-container-id-2\" class=\"sk-top-container\"><div class=\"sk-text-repr-fallback\"><pre>GridSearchCV(cv=5,\n",
       "             estimator=Pipeline(steps=[(&#x27;standardscaler&#x27;, StandardScaler()),\n",
       "                                       (&#x27;polynomialfeatures&#x27;,\n",
       "                                        PolynomialFeatures()),\n",
       "                                       (&#x27;ridge&#x27;, Ridge())]),\n",
       "             n_jobs=-1,\n",
       "             param_grid={&#x27;polynomialfeatures__degree&#x27;: [1, 2, 3],\n",
       "                         &#x27;ridge__alpha&#x27;: [0.001, 0.01, 0.1, 1, 10, 100]})</pre><b>In a Jupyter environment, please rerun this cell to show the HTML representation or trust the notebook. <br />On GitHub, the HTML representation is unable to render, please try loading this page with nbviewer.org.</b></div><div class=\"sk-container\" hidden><div class=\"sk-item sk-dashed-wrapped\"><div class=\"sk-label-container\"><div class=\"sk-label sk-toggleable\"><input class=\"sk-toggleable__control sk-hidden--visually\" id=\"sk-estimator-id-5\" type=\"checkbox\" ><label for=\"sk-estimator-id-5\" class=\"sk-toggleable__label sk-toggleable__label-arrow\">GridSearchCV</label><div class=\"sk-toggleable__content\"><pre>GridSearchCV(cv=5,\n",
       "             estimator=Pipeline(steps=[(&#x27;standardscaler&#x27;, StandardScaler()),\n",
       "                                       (&#x27;polynomialfeatures&#x27;,\n",
       "                                        PolynomialFeatures()),\n",
       "                                       (&#x27;ridge&#x27;, Ridge())]),\n",
       "             n_jobs=-1,\n",
       "             param_grid={&#x27;polynomialfeatures__degree&#x27;: [1, 2, 3],\n",
       "                         &#x27;ridge__alpha&#x27;: [0.001, 0.01, 0.1, 1, 10, 100]})</pre></div></div></div><div class=\"sk-parallel\"><div class=\"sk-parallel-item\"><div class=\"sk-item\"><div class=\"sk-label-container\"><div class=\"sk-label sk-toggleable\"><input class=\"sk-toggleable__control sk-hidden--visually\" id=\"sk-estimator-id-6\" type=\"checkbox\" ><label for=\"sk-estimator-id-6\" class=\"sk-toggleable__label sk-toggleable__label-arrow\">estimator: Pipeline</label><div class=\"sk-toggleable__content\"><pre>Pipeline(steps=[(&#x27;standardscaler&#x27;, StandardScaler()),\n",
       "                (&#x27;polynomialfeatures&#x27;, PolynomialFeatures()),\n",
       "                (&#x27;ridge&#x27;, Ridge())])</pre></div></div></div><div class=\"sk-serial\"><div class=\"sk-item\"><div class=\"sk-serial\"><div class=\"sk-item\"><div class=\"sk-estimator sk-toggleable\"><input class=\"sk-toggleable__control sk-hidden--visually\" id=\"sk-estimator-id-7\" type=\"checkbox\" ><label for=\"sk-estimator-id-7\" class=\"sk-toggleable__label sk-toggleable__label-arrow\">StandardScaler</label><div class=\"sk-toggleable__content\"><pre>StandardScaler()</pre></div></div></div><div class=\"sk-item\"><div class=\"sk-estimator sk-toggleable\"><input class=\"sk-toggleable__control sk-hidden--visually\" id=\"sk-estimator-id-8\" type=\"checkbox\" ><label for=\"sk-estimator-id-8\" class=\"sk-toggleable__label sk-toggleable__label-arrow\">PolynomialFeatures</label><div class=\"sk-toggleable__content\"><pre>PolynomialFeatures()</pre></div></div></div><div class=\"sk-item\"><div class=\"sk-estimator sk-toggleable\"><input class=\"sk-toggleable__control sk-hidden--visually\" id=\"sk-estimator-id-9\" type=\"checkbox\" ><label for=\"sk-estimator-id-9\" class=\"sk-toggleable__label sk-toggleable__label-arrow\">Ridge</label><div class=\"sk-toggleable__content\"><pre>Ridge()</pre></div></div></div></div></div></div></div></div></div></div></div></div>"
      ],
      "text/plain": [
       "GridSearchCV(cv=5,\n",
       "             estimator=Pipeline(steps=[('standardscaler', StandardScaler()),\n",
       "                                       ('polynomialfeatures',\n",
       "                                        PolynomialFeatures()),\n",
       "                                       ('ridge', Ridge())]),\n",
       "             n_jobs=-1,\n",
       "             param_grid={'polynomialfeatures__degree': [1, 2, 3],\n",
       "                         'ridge__alpha': [0.001, 0.01, 0.1, 1, 10, 100]})"
      ]
     },
     "execution_count": 21,
     "metadata": {},
     "output_type": "execute_result"
    }
   ],
   "source": [
    "from sklearn.preprocessing import PolynomialFeatures\n",
    "from mglearn.datasets import load_boston\n",
    "from sklearn.linear_model import Ridge\n",
    "\n",
    "boston = load_boston()\n",
    "X_train, X_test, y_train, y_test = train_test_split(boston.data, boston.target,\n",
    "                                                    random_state=0)\n",
    "pipe = make_pipeline(\n",
    "    StandardScaler(),\n",
    "    PolynomialFeatures(),\n",
    "    Ridge())\n",
    "\n",
    "param_grid = {'polynomialfeatures__degree': [1, 2, 3],\n",
    "              'ridge__alpha': [0.001, 0.01, 0.1, 1, 10, 100]}\n",
    "\n",
    "grid = GridSearchCV(pipe, param_grid=param_grid, cv=5, n_jobs=-1)\n",
    "grid.fit(X_train, y_train)"
   ]
  },
  {
   "cell_type": "code",
   "execution_count": 22,
   "metadata": {},
   "outputs": [
    {
     "data": {
      "text/plain": [
       "<matplotlib.colorbar.Colorbar at 0x7feb583a6260>"
      ]
     },
     "execution_count": 22,
     "metadata": {},
     "output_type": "execute_result"
    },
    {
     "data": {
      "image/svg+xml": "<?xml version=\"1.0\" encoding=\"utf-8\" standalone=\"no\"?>\n<!DOCTYPE svg PUBLIC \"-//W3C//DTD SVG 1.1//EN\"\n  \"http://www.w3.org/Graphics/SVG/1.1/DTD/svg11.dtd\">\n<svg xmlns:xlink=\"http://www.w3.org/1999/xlink\" width=\"533.341875pt\" height=\"288.118906pt\" viewBox=\"0 0 533.341875 288.118906\" xmlns=\"http://www.w3.org/2000/svg\" version=\"1.1\">\n <metadata>\n  <rdf:RDF xmlns:dc=\"http://purl.org/dc/elements/1.1/\" xmlns:cc=\"http://creativecommons.org/ns#\" xmlns:rdf=\"http://www.w3.org/1999/02/22-rdf-syntax-ns#\">\n   <cc:Work>\n    <dc:type rdf:resource=\"http://purl.org/dc/dcmitype/StillImage\"/>\n    <dc:date>2023-03-09T15:19:16.684807</dc:date>\n    <dc:format>image/svg+xml</dc:format>\n    <dc:creator>\n     <cc:Agent>\n      <dc:title>Matplotlib v3.5.3, https://matplotlib.org/</dc:title>\n     </cc:Agent>\n    </dc:creator>\n   </cc:Work>\n  </rdf:RDF>\n </metadata>\n <defs>\n  <style type=\"text/css\">*{stroke-linejoin: round; stroke-linecap: butt}</style>\n </defs>\n <g id=\"figure_1\">\n  <g id=\"patch_1\">\n   <path d=\"M 0 288.118906 \nL 533.341875 288.118906 \nL 533.341875 0 \nL 0 0 \nz\n\" style=\"fill: #ffffff\"/>\n  </g>\n  <g id=\"axes_1\">\n   <g id=\"patch_2\">\n    <path d=\"M 34.51875 248.256 \nL 463.06275 248.256 \nL 463.06275 33.984 \nL 34.51875 33.984 \nz\n\" style=\"fill: #ffffff\"/>\n   </g>\n   <g clip-path=\"url(#p81a7b04ea5)\">\n    <image xlink:href=\"data:image/png;base64,\niVBORw0KGgoAAAANSUhEUgAAAlQAAAEqCAYAAADTWM4FAAAFjUlEQVR4nO3YMUoDYRRG0UwyWNkJESs34DJcgntO5RIEwQVYCDaDE5spUolwiz/FOSv4mgeXNz1PL+cdAPzD0+t+9AQuzPt19AQ2LgMAIBJUAACRoAIAiAQVAEAkqAAAIkEFABAJKgCASFABAESCCgAgElQAAJGgAgCIBBUAQCSoAAAiQQUAEAkqAIBIUAEARIIKACASVAAAkaACAIgEFQBAJKgAACJBBQAQCSoAgEhQAQBEggoAIBJUAACRoAIAiAQVAEAkqAAAIkEFABAJKgCASFABAESCCgAgElQAAJGgAgCIBBUAQCSoAAAiQQUAEAkqAIBIUAEARIIKACASVAAAkaACAIgEFQBAJKgAACJBBQAQCSoAgEhQAQBEggoAIBJUAACRoAIAiAQVAEAkqAAAIkEFABAJKgCASFABAESCCgAgElQAAJGgAgCIBBUAQCSoAAAiQQUAEAkqAIBIUAEARIIKACASVAAAkaACAIgEFQBAJKgAACJBBQAQCSoAgEhQAQBEggoAIBJUAACRoAIAiAQVAEAkqAAAIkEFABAJKgCASFABAESCCgAgElQAAJGgAgCIBBUAQCSoAAAiQQUAEAkqAIBIUAEARIIKACASVAAAkaACAIgEFQBAJKgAACJBBQAQCSoAgEhQAQBEggoAIBJUAACRoAIAiKbT++N59Ai4Rje7dfQENveHZfQENg/z7egJXPj8+R49gY0PFQBAJKgAACJBBQAQCSoAgEhQAQBEggoAIBJUAACRoAIAiAQVAEAkqAAAIkEFABAJKgCASFABAESCCgAgElQAAJGgAgCIBBUAQCSoAAAiQQUAEAkqAIBIUAEARIIKACASVAAAkaACAIgEFQBAJKgAACJBBQAQCSoAgEhQAQBEggoAIBJUAACRoAIAiAQVAEAkqAAAIkEFABAJKgCASFABAESCCgAgElQAAJGgAgCIBBUAQCSoAAAiQQUAEAkqAIBIUAEARIIKACASVAAAkaACAIgEFQBAJKgAACJBBQAQCSoAgEhQAQBEggoAIBJUAACRoAIAiAQVAEAkqAAAIkEFABAJKgCASFABAESCCgAgElQAAJGgAgCIBBUAQCSoAAAiQQUAEAkqAIBIUAEARIIKACASVAAAkaACAIgEFQBAJKgAACJBBQAQCSoAgEhQAQBEggoAIBJUAACRoAIAiAQVAEAkqAAAIkEFABAJKgCASFABAESCCgAgElQAAJGgAgCIBBUAQCSoAAAiQQUAEAkqAIBIUAEARIIKACASVAAAkaACAIgEFQBAJKgAAKL5Y7kbvQHgT2/L6AVwnb7W4+gJbHyoAAAiQQUAEAkqAIBIUAEARIIKACASVAAAkaACAIgEFQBAJKgAACJBBQAQCSoAgEhQAQBEggoAIBJUAACRoAIAiAQVAEAkqAAAIkEFABAJKgCASFABAESCCgAgElQAAJGgAgCIBBUAQCSoAAAiQQUAEAkqAIBIUAEARIIKACASVAAAkaACAIgEFQBAJKgAACJBBQAQCSoAgEhQAQBEggoAIBJUAACRoAIAiAQVAEAkqAAAIkEFABAJKgCASFABAESCCgAgElQAAJGgAgCIBBUAQCSoAAAiQQUAEAkqAIBIUAEARIIKACASVAAAkaACAIgEFQBAJKgAACJBBQAQCSoAgEhQAQBEggoAIBJUAACRoAIAiAQVAEAkqAAAIkEFABAJKgCASFABAESCCgAgElQAAJGgAgCIBBUAQCSoAAAiQQUAEAkqAIBIUAEARIIKACASVAAAkaACAIgEFQBAJKgAACJBBQAQCSoAgEhQAQBEggoAIBJUAACRoAIAiAQVAEAkqAAAIkEFABAJKgCASFABAESCCgAgElQAAJGgAgCIBBUAQCSoAAAiQQUAEP0CFSMTpXr1AWsAAAAASUVORK5CYII=\" id=\"image0547ba061c\" transform=\"scale(1 -1)translate(0 -214.56)\" x=\"34.51875\" y=\"-33.696\" width=\"429.12\" height=\"214.56\"/>\n   </g>\n   <g id=\"matplotlib.axis_1\">\n    <g id=\"xtick_1\">\n     <g id=\"line2d_1\">\n      <defs>\n       <path id=\"m9782c84e27\" d=\"M 0 0 \nL 0 3.5 \n\" style=\"stroke: #000000; stroke-width: 0.8\"/>\n      </defs>\n      <g>\n       <use xlink:href=\"#m9782c84e27\" x=\"70.23075\" y=\"248.256\" style=\"stroke: #000000; stroke-width: 0.8\"/>\n      </g>\n     </g>\n     <g id=\"line2d_2\">\n      <defs>\n       <path id=\"m384602fe2a\" d=\"M 0 0 \nL 0 -3.5 \n\" style=\"stroke: #000000; stroke-width: 0.8\"/>\n      </defs>\n      <g>\n       <use xlink:href=\"#m384602fe2a\" x=\"70.23075\" y=\"33.984\" style=\"stroke: #000000; stroke-width: 0.8\"/>\n      </g>\n     </g>\n     <g id=\"text_1\">\n      <!-- 0.001 -->\n      <g transform=\"translate(55.916688 24.904313)scale(0.1 -0.1)\">\n       <defs>\n        <path id=\"DejaVuSans-30\" d=\"M 2034 4250 \nQ 1547 4250 1301 3770 \nQ 1056 3291 1056 2328 \nQ 1056 1369 1301 889 \nQ 1547 409 2034 409 \nQ 2525 409 2770 889 \nQ 3016 1369 3016 2328 \nQ 3016 3291 2770 3770 \nQ 2525 4250 2034 4250 \nz\nM 2034 4750 \nQ 2819 4750 3233 4129 \nQ 3647 3509 3647 2328 \nQ 3647 1150 3233 529 \nQ 2819 -91 2034 -91 \nQ 1250 -91 836 529 \nQ 422 1150 422 2328 \nQ 422 3509 836 4129 \nQ 1250 4750 2034 4750 \nz\n\" transform=\"scale(0.015625)\"/>\n        <path id=\"DejaVuSans-2e\" d=\"M 684 794 \nL 1344 794 \nL 1344 0 \nL 684 0 \nL 684 794 \nz\n\" transform=\"scale(0.015625)\"/>\n        <path id=\"DejaVuSans-31\" d=\"M 794 531 \nL 1825 531 \nL 1825 4091 \nL 703 3866 \nL 703 4441 \nL 1819 4666 \nL 2450 4666 \nL 2450 531 \nL 3481 531 \nL 3481 0 \nL 794 0 \nL 794 531 \nz\n\" transform=\"scale(0.015625)\"/>\n       </defs>\n       <use xlink:href=\"#DejaVuSans-30\"/>\n       <use xlink:href=\"#DejaVuSans-2e\" x=\"63.623047\"/>\n       <use xlink:href=\"#DejaVuSans-30\" x=\"95.410156\"/>\n       <use xlink:href=\"#DejaVuSans-30\" x=\"159.033203\"/>\n       <use xlink:href=\"#DejaVuSans-31\" x=\"222.65625\"/>\n      </g>\n     </g>\n    </g>\n    <g id=\"xtick_2\">\n     <g id=\"line2d_3\">\n      <g>\n       <use xlink:href=\"#m9782c84e27\" x=\"141.65475\" y=\"248.256\" style=\"stroke: #000000; stroke-width: 0.8\"/>\n      </g>\n     </g>\n     <g id=\"line2d_4\">\n      <g>\n       <use xlink:href=\"#m384602fe2a\" x=\"141.65475\" y=\"33.984\" style=\"stroke: #000000; stroke-width: 0.8\"/>\n      </g>\n     </g>\n     <g id=\"text_2\">\n      <!-- 0.01 -->\n      <g transform=\"translate(130.521937 24.904313)scale(0.1 -0.1)\">\n       <use xlink:href=\"#DejaVuSans-30\"/>\n       <use xlink:href=\"#DejaVuSans-2e\" x=\"63.623047\"/>\n       <use xlink:href=\"#DejaVuSans-30\" x=\"95.410156\"/>\n       <use xlink:href=\"#DejaVuSans-31\" x=\"159.033203\"/>\n      </g>\n     </g>\n    </g>\n    <g id=\"xtick_3\">\n     <g id=\"line2d_5\">\n      <g>\n       <use xlink:href=\"#m9782c84e27\" x=\"213.07875\" y=\"248.256\" style=\"stroke: #000000; stroke-width: 0.8\"/>\n      </g>\n     </g>\n     <g id=\"line2d_6\">\n      <g>\n       <use xlink:href=\"#m384602fe2a\" x=\"213.07875\" y=\"33.984\" style=\"stroke: #000000; stroke-width: 0.8\"/>\n      </g>\n     </g>\n     <g id=\"text_3\">\n      <!-- 0.1 -->\n      <g transform=\"translate(205.127187 24.904313)scale(0.1 -0.1)\">\n       <use xlink:href=\"#DejaVuSans-30\"/>\n       <use xlink:href=\"#DejaVuSans-2e\" x=\"63.623047\"/>\n       <use xlink:href=\"#DejaVuSans-31\" x=\"95.410156\"/>\n      </g>\n     </g>\n    </g>\n    <g id=\"xtick_4\">\n     <g id=\"line2d_7\">\n      <g>\n       <use xlink:href=\"#m9782c84e27\" x=\"284.50275\" y=\"248.256\" style=\"stroke: #000000; stroke-width: 0.8\"/>\n      </g>\n     </g>\n     <g id=\"line2d_8\">\n      <g>\n       <use xlink:href=\"#m384602fe2a\" x=\"284.50275\" y=\"33.984\" style=\"stroke: #000000; stroke-width: 0.8\"/>\n      </g>\n     </g>\n     <g id=\"text_4\">\n      <!-- 1 -->\n      <g transform=\"translate(281.3215 24.904313)scale(0.1 -0.1)\">\n       <use xlink:href=\"#DejaVuSans-31\"/>\n      </g>\n     </g>\n    </g>\n    <g id=\"xtick_5\">\n     <g id=\"line2d_9\">\n      <g>\n       <use xlink:href=\"#m9782c84e27\" x=\"355.92675\" y=\"248.256\" style=\"stroke: #000000; stroke-width: 0.8\"/>\n      </g>\n     </g>\n     <g id=\"line2d_10\">\n      <g>\n       <use xlink:href=\"#m384602fe2a\" x=\"355.92675\" y=\"33.984\" style=\"stroke: #000000; stroke-width: 0.8\"/>\n      </g>\n     </g>\n     <g id=\"text_5\">\n      <!-- 10 -->\n      <g transform=\"translate(349.56425 24.904313)scale(0.1 -0.1)\">\n       <use xlink:href=\"#DejaVuSans-31\"/>\n       <use xlink:href=\"#DejaVuSans-30\" x=\"63.623047\"/>\n      </g>\n     </g>\n    </g>\n    <g id=\"xtick_6\">\n     <g id=\"line2d_11\">\n      <g>\n       <use xlink:href=\"#m9782c84e27\" x=\"427.35075\" y=\"248.256\" style=\"stroke: #000000; stroke-width: 0.8\"/>\n      </g>\n     </g>\n     <g id=\"line2d_12\">\n      <g>\n       <use xlink:href=\"#m384602fe2a\" x=\"427.35075\" y=\"33.984\" style=\"stroke: #000000; stroke-width: 0.8\"/>\n      </g>\n     </g>\n     <g id=\"text_6\">\n      <!-- 100 -->\n      <g transform=\"translate(417.807 24.904313)scale(0.1 -0.1)\">\n       <use xlink:href=\"#DejaVuSans-31\"/>\n       <use xlink:href=\"#DejaVuSans-30\" x=\"63.623047\"/>\n       <use xlink:href=\"#DejaVuSans-30\" x=\"127.246094\"/>\n      </g>\n     </g>\n    </g>\n    <g id=\"text_7\">\n     <!-- ridge__alpha -->\n     <g transform=\"translate(217.061062 263.354437)scale(0.1 -0.1)\">\n      <defs>\n       <path id=\"DejaVuSans-72\" d=\"M 2631 2963 \nQ 2534 3019 2420 3045 \nQ 2306 3072 2169 3072 \nQ 1681 3072 1420 2755 \nQ 1159 2438 1159 1844 \nL 1159 0 \nL 581 0 \nL 581 3500 \nL 1159 3500 \nL 1159 2956 \nQ 1341 3275 1631 3429 \nQ 1922 3584 2338 3584 \nQ 2397 3584 2469 3576 \nQ 2541 3569 2628 3553 \nL 2631 2963 \nz\n\" transform=\"scale(0.015625)\"/>\n       <path id=\"DejaVuSans-69\" d=\"M 603 3500 \nL 1178 3500 \nL 1178 0 \nL 603 0 \nL 603 3500 \nz\nM 603 4863 \nL 1178 4863 \nL 1178 4134 \nL 603 4134 \nL 603 4863 \nz\n\" transform=\"scale(0.015625)\"/>\n       <path id=\"DejaVuSans-64\" d=\"M 2906 2969 \nL 2906 4863 \nL 3481 4863 \nL 3481 0 \nL 2906 0 \nL 2906 525 \nQ 2725 213 2448 61 \nQ 2172 -91 1784 -91 \nQ 1150 -91 751 415 \nQ 353 922 353 1747 \nQ 353 2572 751 3078 \nQ 1150 3584 1784 3584 \nQ 2172 3584 2448 3432 \nQ 2725 3281 2906 2969 \nz\nM 947 1747 \nQ 947 1113 1208 752 \nQ 1469 391 1925 391 \nQ 2381 391 2643 752 \nQ 2906 1113 2906 1747 \nQ 2906 2381 2643 2742 \nQ 2381 3103 1925 3103 \nQ 1469 3103 1208 2742 \nQ 947 2381 947 1747 \nz\n\" transform=\"scale(0.015625)\"/>\n       <path id=\"DejaVuSans-67\" d=\"M 2906 1791 \nQ 2906 2416 2648 2759 \nQ 2391 3103 1925 3103 \nQ 1463 3103 1205 2759 \nQ 947 2416 947 1791 \nQ 947 1169 1205 825 \nQ 1463 481 1925 481 \nQ 2391 481 2648 825 \nQ 2906 1169 2906 1791 \nz\nM 3481 434 \nQ 3481 -459 3084 -895 \nQ 2688 -1331 1869 -1331 \nQ 1566 -1331 1297 -1286 \nQ 1028 -1241 775 -1147 \nL 775 -588 \nQ 1028 -725 1275 -790 \nQ 1522 -856 1778 -856 \nQ 2344 -856 2625 -561 \nQ 2906 -266 2906 331 \nL 2906 616 \nQ 2728 306 2450 153 \nQ 2172 0 1784 0 \nQ 1141 0 747 490 \nQ 353 981 353 1791 \nQ 353 2603 747 3093 \nQ 1141 3584 1784 3584 \nQ 2172 3584 2450 3431 \nQ 2728 3278 2906 2969 \nL 2906 3500 \nL 3481 3500 \nL 3481 434 \nz\n\" transform=\"scale(0.015625)\"/>\n       <path id=\"DejaVuSans-65\" d=\"M 3597 1894 \nL 3597 1613 \nL 953 1613 \nQ 991 1019 1311 708 \nQ 1631 397 2203 397 \nQ 2534 397 2845 478 \nQ 3156 559 3463 722 \nL 3463 178 \nQ 3153 47 2828 -22 \nQ 2503 -91 2169 -91 \nQ 1331 -91 842 396 \nQ 353 884 353 1716 \nQ 353 2575 817 3079 \nQ 1281 3584 2069 3584 \nQ 2775 3584 3186 3129 \nQ 3597 2675 3597 1894 \nz\nM 3022 2063 \nQ 3016 2534 2758 2815 \nQ 2500 3097 2075 3097 \nQ 1594 3097 1305 2825 \nQ 1016 2553 972 2059 \nL 3022 2063 \nz\n\" transform=\"scale(0.015625)\"/>\n       <path id=\"DejaVuSans-5f\" d=\"M 3263 -1063 \nL 3263 -1509 \nL -63 -1509 \nL -63 -1063 \nL 3263 -1063 \nz\n\" transform=\"scale(0.015625)\"/>\n       <path id=\"DejaVuSans-61\" d=\"M 2194 1759 \nQ 1497 1759 1228 1600 \nQ 959 1441 959 1056 \nQ 959 750 1161 570 \nQ 1363 391 1709 391 \nQ 2188 391 2477 730 \nQ 2766 1069 2766 1631 \nL 2766 1759 \nL 2194 1759 \nz\nM 3341 1997 \nL 3341 0 \nL 2766 0 \nL 2766 531 \nQ 2569 213 2275 61 \nQ 1981 -91 1556 -91 \nQ 1019 -91 701 211 \nQ 384 513 384 1019 \nQ 384 1609 779 1909 \nQ 1175 2209 1959 2209 \nL 2766 2209 \nL 2766 2266 \nQ 2766 2663 2505 2880 \nQ 2244 3097 1772 3097 \nQ 1472 3097 1187 3025 \nQ 903 2953 641 2809 \nL 641 3341 \nQ 956 3463 1253 3523 \nQ 1550 3584 1831 3584 \nQ 2591 3584 2966 3190 \nQ 3341 2797 3341 1997 \nz\n\" transform=\"scale(0.015625)\"/>\n       <path id=\"DejaVuSans-6c\" d=\"M 603 4863 \nL 1178 4863 \nL 1178 0 \nL 603 0 \nL 603 4863 \nz\n\" transform=\"scale(0.015625)\"/>\n       <path id=\"DejaVuSans-70\" d=\"M 1159 525 \nL 1159 -1331 \nL 581 -1331 \nL 581 3500 \nL 1159 3500 \nL 1159 2969 \nQ 1341 3281 1617 3432 \nQ 1894 3584 2278 3584 \nQ 2916 3584 3314 3078 \nQ 3713 2572 3713 1747 \nQ 3713 922 3314 415 \nQ 2916 -91 2278 -91 \nQ 1894 -91 1617 61 \nQ 1341 213 1159 525 \nz\nM 3116 1747 \nQ 3116 2381 2855 2742 \nQ 2594 3103 2138 3103 \nQ 1681 3103 1420 2742 \nQ 1159 2381 1159 1747 \nQ 1159 1113 1420 752 \nQ 1681 391 2138 391 \nQ 2594 391 2855 752 \nQ 3116 1113 3116 1747 \nz\n\" transform=\"scale(0.015625)\"/>\n       <path id=\"DejaVuSans-68\" d=\"M 3513 2113 \nL 3513 0 \nL 2938 0 \nL 2938 2094 \nQ 2938 2591 2744 2837 \nQ 2550 3084 2163 3084 \nQ 1697 3084 1428 2787 \nQ 1159 2491 1159 1978 \nL 1159 0 \nL 581 0 \nL 581 4863 \nL 1159 4863 \nL 1159 2956 \nQ 1366 3272 1645 3428 \nQ 1925 3584 2291 3584 \nQ 2894 3584 3203 3211 \nQ 3513 2838 3513 2113 \nz\n\" transform=\"scale(0.015625)\"/>\n      </defs>\n      <use xlink:href=\"#DejaVuSans-72\"/>\n      <use xlink:href=\"#DejaVuSans-69\" x=\"41.113281\"/>\n      <use xlink:href=\"#DejaVuSans-64\" x=\"68.896484\"/>\n      <use xlink:href=\"#DejaVuSans-67\" x=\"132.373047\"/>\n      <use xlink:href=\"#DejaVuSans-65\" x=\"195.849609\"/>\n      <use xlink:href=\"#DejaVuSans-5f\" x=\"257.373047\"/>\n      <use xlink:href=\"#DejaVuSans-5f\" x=\"307.373047\"/>\n      <use xlink:href=\"#DejaVuSans-61\" x=\"357.373047\"/>\n      <use xlink:href=\"#DejaVuSans-6c\" x=\"418.652344\"/>\n      <use xlink:href=\"#DejaVuSans-70\" x=\"446.435547\"/>\n      <use xlink:href=\"#DejaVuSans-68\" x=\"509.912109\"/>\n      <use xlink:href=\"#DejaVuSans-61\" x=\"573.291016\"/>\n     </g>\n    </g>\n   </g>\n   <g id=\"matplotlib.axis_2\">\n    <g id=\"ytick_1\">\n     <g id=\"line2d_13\">\n      <defs>\n       <path id=\"mdf11fc3a16\" d=\"M 0 0 \nL -3.5 0 \n\" style=\"stroke: #000000; stroke-width: 0.8\"/>\n      </defs>\n      <g>\n       <use xlink:href=\"#mdf11fc3a16\" x=\"34.51875\" y=\"69.696\" style=\"stroke: #000000; stroke-width: 0.8\"/>\n      </g>\n     </g>\n     <g id=\"text_8\">\n      <!-- 1 -->\n      <g transform=\"translate(21.15625 73.495219)scale(0.1 -0.1)\">\n       <use xlink:href=\"#DejaVuSans-31\"/>\n      </g>\n     </g>\n    </g>\n    <g id=\"ytick_2\">\n     <g id=\"line2d_14\">\n      <g>\n       <use xlink:href=\"#mdf11fc3a16\" x=\"34.51875\" y=\"141.12\" style=\"stroke: #000000; stroke-width: 0.8\"/>\n      </g>\n     </g>\n     <g id=\"text_9\">\n      <!-- 2 -->\n      <g transform=\"translate(21.15625 144.919219)scale(0.1 -0.1)\">\n       <defs>\n        <path id=\"DejaVuSans-32\" d=\"M 1228 531 \nL 3431 531 \nL 3431 0 \nL 469 0 \nL 469 531 \nQ 828 903 1448 1529 \nQ 2069 2156 2228 2338 \nQ 2531 2678 2651 2914 \nQ 2772 3150 2772 3378 \nQ 2772 3750 2511 3984 \nQ 2250 4219 1831 4219 \nQ 1534 4219 1204 4116 \nQ 875 4013 500 3803 \nL 500 4441 \nQ 881 4594 1212 4672 \nQ 1544 4750 1819 4750 \nQ 2544 4750 2975 4387 \nQ 3406 4025 3406 3419 \nQ 3406 3131 3298 2873 \nQ 3191 2616 2906 2266 \nQ 2828 2175 2409 1742 \nQ 1991 1309 1228 531 \nz\n\" transform=\"scale(0.015625)\"/>\n       </defs>\n       <use xlink:href=\"#DejaVuSans-32\"/>\n      </g>\n     </g>\n    </g>\n    <g id=\"ytick_3\">\n     <g id=\"line2d_15\">\n      <g>\n       <use xlink:href=\"#mdf11fc3a16\" x=\"34.51875\" y=\"212.544\" style=\"stroke: #000000; stroke-width: 0.8\"/>\n      </g>\n     </g>\n     <g id=\"text_10\">\n      <!-- 3 -->\n      <g transform=\"translate(21.15625 216.343219)scale(0.1 -0.1)\">\n       <defs>\n        <path id=\"DejaVuSans-33\" d=\"M 2597 2516 \nQ 3050 2419 3304 2112 \nQ 3559 1806 3559 1356 \nQ 3559 666 3084 287 \nQ 2609 -91 1734 -91 \nQ 1441 -91 1130 -33 \nQ 819 25 488 141 \nL 488 750 \nQ 750 597 1062 519 \nQ 1375 441 1716 441 \nQ 2309 441 2620 675 \nQ 2931 909 2931 1356 \nQ 2931 1769 2642 2001 \nQ 2353 2234 1838 2234 \nL 1294 2234 \nL 1294 2753 \nL 1863 2753 \nQ 2328 2753 2575 2939 \nQ 2822 3125 2822 3475 \nQ 2822 3834 2567 4026 \nQ 2313 4219 1838 4219 \nQ 1578 4219 1281 4162 \nQ 984 4106 628 3988 \nL 628 4550 \nQ 988 4650 1302 4700 \nQ 1616 4750 1894 4750 \nQ 2613 4750 3031 4423 \nQ 3450 4097 3450 3541 \nQ 3450 3153 3228 2886 \nQ 3006 2619 2597 2516 \nz\n\" transform=\"scale(0.015625)\"/>\n       </defs>\n       <use xlink:href=\"#DejaVuSans-33\"/>\n      </g>\n     </g>\n    </g>\n    <g id=\"text_11\">\n     <!-- polynomialfeatures__degree -->\n     <g transform=\"translate(14.798438 211.817656)rotate(-90)scale(0.1 -0.1)\">\n      <defs>\n       <path id=\"DejaVuSans-6f\" d=\"M 1959 3097 \nQ 1497 3097 1228 2736 \nQ 959 2375 959 1747 \nQ 959 1119 1226 758 \nQ 1494 397 1959 397 \nQ 2419 397 2687 759 \nQ 2956 1122 2956 1747 \nQ 2956 2369 2687 2733 \nQ 2419 3097 1959 3097 \nz\nM 1959 3584 \nQ 2709 3584 3137 3096 \nQ 3566 2609 3566 1747 \nQ 3566 888 3137 398 \nQ 2709 -91 1959 -91 \nQ 1206 -91 779 398 \nQ 353 888 353 1747 \nQ 353 2609 779 3096 \nQ 1206 3584 1959 3584 \nz\n\" transform=\"scale(0.015625)\"/>\n       <path id=\"DejaVuSans-79\" d=\"M 2059 -325 \nQ 1816 -950 1584 -1140 \nQ 1353 -1331 966 -1331 \nL 506 -1331 \nL 506 -850 \nL 844 -850 \nQ 1081 -850 1212 -737 \nQ 1344 -625 1503 -206 \nL 1606 56 \nL 191 3500 \nL 800 3500 \nL 1894 763 \nL 2988 3500 \nL 3597 3500 \nL 2059 -325 \nz\n\" transform=\"scale(0.015625)\"/>\n       <path id=\"DejaVuSans-6e\" d=\"M 3513 2113 \nL 3513 0 \nL 2938 0 \nL 2938 2094 \nQ 2938 2591 2744 2837 \nQ 2550 3084 2163 3084 \nQ 1697 3084 1428 2787 \nQ 1159 2491 1159 1978 \nL 1159 0 \nL 581 0 \nL 581 3500 \nL 1159 3500 \nL 1159 2956 \nQ 1366 3272 1645 3428 \nQ 1925 3584 2291 3584 \nQ 2894 3584 3203 3211 \nQ 3513 2838 3513 2113 \nz\n\" transform=\"scale(0.015625)\"/>\n       <path id=\"DejaVuSans-6d\" d=\"M 3328 2828 \nQ 3544 3216 3844 3400 \nQ 4144 3584 4550 3584 \nQ 5097 3584 5394 3201 \nQ 5691 2819 5691 2113 \nL 5691 0 \nL 5113 0 \nL 5113 2094 \nQ 5113 2597 4934 2840 \nQ 4756 3084 4391 3084 \nQ 3944 3084 3684 2787 \nQ 3425 2491 3425 1978 \nL 3425 0 \nL 2847 0 \nL 2847 2094 \nQ 2847 2600 2669 2842 \nQ 2491 3084 2119 3084 \nQ 1678 3084 1418 2786 \nQ 1159 2488 1159 1978 \nL 1159 0 \nL 581 0 \nL 581 3500 \nL 1159 3500 \nL 1159 2956 \nQ 1356 3278 1631 3431 \nQ 1906 3584 2284 3584 \nQ 2666 3584 2933 3390 \nQ 3200 3197 3328 2828 \nz\n\" transform=\"scale(0.015625)\"/>\n       <path id=\"DejaVuSans-66\" d=\"M 2375 4863 \nL 2375 4384 \nL 1825 4384 \nQ 1516 4384 1395 4259 \nQ 1275 4134 1275 3809 \nL 1275 3500 \nL 2222 3500 \nL 2222 3053 \nL 1275 3053 \nL 1275 0 \nL 697 0 \nL 697 3053 \nL 147 3053 \nL 147 3500 \nL 697 3500 \nL 697 3744 \nQ 697 4328 969 4595 \nQ 1241 4863 1831 4863 \nL 2375 4863 \nz\n\" transform=\"scale(0.015625)\"/>\n       <path id=\"DejaVuSans-74\" d=\"M 1172 4494 \nL 1172 3500 \nL 2356 3500 \nL 2356 3053 \nL 1172 3053 \nL 1172 1153 \nQ 1172 725 1289 603 \nQ 1406 481 1766 481 \nL 2356 481 \nL 2356 0 \nL 1766 0 \nQ 1100 0 847 248 \nQ 594 497 594 1153 \nL 594 3053 \nL 172 3053 \nL 172 3500 \nL 594 3500 \nL 594 4494 \nL 1172 4494 \nz\n\" transform=\"scale(0.015625)\"/>\n       <path id=\"DejaVuSans-75\" d=\"M 544 1381 \nL 544 3500 \nL 1119 3500 \nL 1119 1403 \nQ 1119 906 1312 657 \nQ 1506 409 1894 409 \nQ 2359 409 2629 706 \nQ 2900 1003 2900 1516 \nL 2900 3500 \nL 3475 3500 \nL 3475 0 \nL 2900 0 \nL 2900 538 \nQ 2691 219 2414 64 \nQ 2138 -91 1772 -91 \nQ 1169 -91 856 284 \nQ 544 659 544 1381 \nz\nM 1991 3584 \nL 1991 3584 \nz\n\" transform=\"scale(0.015625)\"/>\n       <path id=\"DejaVuSans-73\" d=\"M 2834 3397 \nL 2834 2853 \nQ 2591 2978 2328 3040 \nQ 2066 3103 1784 3103 \nQ 1356 3103 1142 2972 \nQ 928 2841 928 2578 \nQ 928 2378 1081 2264 \nQ 1234 2150 1697 2047 \nL 1894 2003 \nQ 2506 1872 2764 1633 \nQ 3022 1394 3022 966 \nQ 3022 478 2636 193 \nQ 2250 -91 1575 -91 \nQ 1294 -91 989 -36 \nQ 684 19 347 128 \nL 347 722 \nQ 666 556 975 473 \nQ 1284 391 1588 391 \nQ 1994 391 2212 530 \nQ 2431 669 2431 922 \nQ 2431 1156 2273 1281 \nQ 2116 1406 1581 1522 \nL 1381 1569 \nQ 847 1681 609 1914 \nQ 372 2147 372 2553 \nQ 372 3047 722 3315 \nQ 1072 3584 1716 3584 \nQ 2034 3584 2315 3537 \nQ 2597 3491 2834 3397 \nz\n\" transform=\"scale(0.015625)\"/>\n      </defs>\n      <use xlink:href=\"#DejaVuSans-70\"/>\n      <use xlink:href=\"#DejaVuSans-6f\" x=\"63.476562\"/>\n      <use xlink:href=\"#DejaVuSans-6c\" x=\"124.658203\"/>\n      <use xlink:href=\"#DejaVuSans-79\" x=\"152.441406\"/>\n      <use xlink:href=\"#DejaVuSans-6e\" x=\"211.621094\"/>\n      <use xlink:href=\"#DejaVuSans-6f\" x=\"275\"/>\n      <use xlink:href=\"#DejaVuSans-6d\" x=\"336.181641\"/>\n      <use xlink:href=\"#DejaVuSans-69\" x=\"433.59375\"/>\n      <use xlink:href=\"#DejaVuSans-61\" x=\"461.376953\"/>\n      <use xlink:href=\"#DejaVuSans-6c\" x=\"522.65625\"/>\n      <use xlink:href=\"#DejaVuSans-66\" x=\"550.439453\"/>\n      <use xlink:href=\"#DejaVuSans-65\" x=\"585.644531\"/>\n      <use xlink:href=\"#DejaVuSans-61\" x=\"647.167969\"/>\n      <use xlink:href=\"#DejaVuSans-74\" x=\"708.447266\"/>\n      <use xlink:href=\"#DejaVuSans-75\" x=\"747.65625\"/>\n      <use xlink:href=\"#DejaVuSans-72\" x=\"811.035156\"/>\n      <use xlink:href=\"#DejaVuSans-65\" x=\"849.898438\"/>\n      <use xlink:href=\"#DejaVuSans-73\" x=\"911.421875\"/>\n      <use xlink:href=\"#DejaVuSans-5f\" x=\"963.521484\"/>\n      <use xlink:href=\"#DejaVuSans-5f\" x=\"1013.521484\"/>\n      <use xlink:href=\"#DejaVuSans-64\" x=\"1063.521484\"/>\n      <use xlink:href=\"#DejaVuSans-65\" x=\"1126.998047\"/>\n      <use xlink:href=\"#DejaVuSans-67\" x=\"1188.521484\"/>\n      <use xlink:href=\"#DejaVuSans-72\" x=\"1251.998047\"/>\n      <use xlink:href=\"#DejaVuSans-65\" x=\"1290.861328\"/>\n      <use xlink:href=\"#DejaVuSans-65\" x=\"1352.384766\"/>\n     </g>\n    </g>\n   </g>\n   <g id=\"patch_3\">\n    <path d=\"M 34.51875 248.256 \nL 34.51875 33.984 \n\" style=\"fill: none; stroke: #000000; stroke-width: 0.8; stroke-linejoin: miter; stroke-linecap: square\"/>\n   </g>\n   <g id=\"patch_4\">\n    <path d=\"M 463.06275 248.256 \nL 463.06275 33.984 \n\" style=\"fill: none; stroke: #000000; stroke-width: 0.8; stroke-linejoin: miter; stroke-linecap: square\"/>\n   </g>\n   <g id=\"patch_5\">\n    <path d=\"M 34.51875 248.256 \nL 463.06275 248.256 \n\" style=\"fill: none; stroke: #000000; stroke-width: 0.8; stroke-linejoin: miter; stroke-linecap: square\"/>\n   </g>\n   <g id=\"patch_6\">\n    <path d=\"M 34.51875 33.984 \nL 463.06275 33.984 \n\" style=\"fill: none; stroke: #000000; stroke-width: 0.8; stroke-linejoin: miter; stroke-linecap: square\"/>\n   </g>\n  </g>\n  <g id=\"axes_2\">\n   <g id=\"patch_7\">\n    <path d=\"M 489.84675 275.04 \nL 503.23875 275.04 \nL 503.23875 7.2 \nL 489.84675 7.2 \nz\n\" style=\"fill: #ffffff\"/>\n   </g>\n   <g id=\"patch_8\">\n    <path clip-path=\"url(#p8d922101f3)\" style=\"fill: #ffffff; stroke: #ffffff; stroke-width: 0.01; stroke-linejoin: miter\"/>\n   </g>\n   <image xlink:href=\"data:image/png;base64,\niVBORw0KGgoAAAANSUhEUgAAABMAAAF0CAYAAADB1gKaAAAB60lEQVR4nO2dgQ3DQAgD4ZPROkL3H6XpDFQn9STDANYb2/BRqqZf/X4KqkMBVVXd1Rze3acxsBCa6MngnrE0rdboA1rDS7NSaIKm7c3mX8E2AfPKUTODJnlxielZBs0MNR9UTfBsa9p5sTTXGv8F26DPy5sAmiYKZqX5gHC0NTAscwJIn+08mxdMU6wmCCaeZyxNEkz7ckHbMzXNVXNYapqr5hSMvDmKr+4h11AzTRBsaY4rhKZ61e0TyhTMS1ObgBCaYmuE0NRaw0yTwzLT9JpWm82UBKw1xiVWM8S0ITS3Z+NCT7bzbF5r2h/AQmhWc/ftnJ5xYDvP5uVNgFdN8RLWjm2xNULmWUjQtQmgaYJ3Da9pwXdYMT1jg14RQe+MeRZDEwTzrjpSTbRnYpresc2qiUG5aYqzCYKdlJ5FzLMQNQ94c1w15xVCEz2ZOgFamiFqhtAkTSumaVXT3LMUa3xIMC3NVXMMdnlpsmpGJOCy9ky86swJCDFtBk10BJFBJ09mXnXaF39Lcw5GTg3zdiKHozjoIfOMVdMadHijW9WEs2lVEzZtxg7ImGfs86ZWTdi02qBbLy5m07I9s1oD7hmGpaaJQfHzjAQDf4BGL2EQ7NL+Nd4BBUDVRE9GJwClaf28EGsN7VeUSAG+aJqN6m7nMGwAAAAASUVORK5CYII=\" id=\"image9c7c176c50\" transform=\"scale(1 -1)translate(0 -267.84)\" x=\"489.6\" y=\"-7.2\" width=\"13.68\" height=\"267.84\"/>\n   <g id=\"matplotlib.axis_3\">\n    <g id=\"ytick_4\">\n     <g id=\"line2d_16\">\n      <defs>\n       <path id=\"m5797ecff47\" d=\"M 0 0 \nL 3.5 0 \n\" style=\"stroke: #000000; stroke-width: 0.8\"/>\n      </defs>\n      <g>\n       <use xlink:href=\"#m5797ecff47\" x=\"503.23875\" y=\"275.04\" style=\"stroke: #000000; stroke-width: 0.8\"/>\n      </g>\n     </g>\n     <g id=\"text_12\">\n      <!-- 0.0 -->\n      <g transform=\"translate(510.23875 278.839219)scale(0.1 -0.1)\">\n       <use xlink:href=\"#DejaVuSans-30\"/>\n       <use xlink:href=\"#DejaVuSans-2e\" x=\"63.623047\"/>\n       <use xlink:href=\"#DejaVuSans-30\" x=\"95.410156\"/>\n      </g>\n     </g>\n    </g>\n    <g id=\"ytick_5\">\n     <g id=\"line2d_17\">\n      <g>\n       <use xlink:href=\"#m5797ecff47\" x=\"503.23875\" y=\"242.720518\" style=\"stroke: #000000; stroke-width: 0.8\"/>\n      </g>\n     </g>\n     <g id=\"text_13\">\n      <!-- 0.1 -->\n      <g transform=\"translate(510.23875 246.519736)scale(0.1 -0.1)\">\n       <use xlink:href=\"#DejaVuSans-30\"/>\n       <use xlink:href=\"#DejaVuSans-2e\" x=\"63.623047\"/>\n       <use xlink:href=\"#DejaVuSans-31\" x=\"95.410156\"/>\n      </g>\n     </g>\n    </g>\n    <g id=\"ytick_6\">\n     <g id=\"line2d_18\">\n      <g>\n       <use xlink:href=\"#m5797ecff47\" x=\"503.23875\" y=\"210.401035\" style=\"stroke: #000000; stroke-width: 0.8\"/>\n      </g>\n     </g>\n     <g id=\"text_14\">\n      <!-- 0.2 -->\n      <g transform=\"translate(510.23875 214.200254)scale(0.1 -0.1)\">\n       <use xlink:href=\"#DejaVuSans-30\"/>\n       <use xlink:href=\"#DejaVuSans-2e\" x=\"63.623047\"/>\n       <use xlink:href=\"#DejaVuSans-32\" x=\"95.410156\"/>\n      </g>\n     </g>\n    </g>\n    <g id=\"ytick_7\">\n     <g id=\"line2d_19\">\n      <g>\n       <use xlink:href=\"#m5797ecff47\" x=\"503.23875\" y=\"178.081553\" style=\"stroke: #000000; stroke-width: 0.8\"/>\n      </g>\n     </g>\n     <g id=\"text_15\">\n      <!-- 0.3 -->\n      <g transform=\"translate(510.23875 181.880771)scale(0.1 -0.1)\">\n       <use xlink:href=\"#DejaVuSans-30\"/>\n       <use xlink:href=\"#DejaVuSans-2e\" x=\"63.623047\"/>\n       <use xlink:href=\"#DejaVuSans-33\" x=\"95.410156\"/>\n      </g>\n     </g>\n    </g>\n    <g id=\"ytick_8\">\n     <g id=\"line2d_20\">\n      <g>\n       <use xlink:href=\"#m5797ecff47\" x=\"503.23875\" y=\"145.76207\" style=\"stroke: #000000; stroke-width: 0.8\"/>\n      </g>\n     </g>\n     <g id=\"text_16\">\n      <!-- 0.4 -->\n      <g transform=\"translate(510.23875 149.561289)scale(0.1 -0.1)\">\n       <defs>\n        <path id=\"DejaVuSans-34\" d=\"M 2419 4116 \nL 825 1625 \nL 2419 1625 \nL 2419 4116 \nz\nM 2253 4666 \nL 3047 4666 \nL 3047 1625 \nL 3713 1625 \nL 3713 1100 \nL 3047 1100 \nL 3047 0 \nL 2419 0 \nL 2419 1100 \nL 313 1100 \nL 313 1709 \nL 2253 4666 \nz\n\" transform=\"scale(0.015625)\"/>\n       </defs>\n       <use xlink:href=\"#DejaVuSans-30\"/>\n       <use xlink:href=\"#DejaVuSans-2e\" x=\"63.623047\"/>\n       <use xlink:href=\"#DejaVuSans-34\" x=\"95.410156\"/>\n      </g>\n     </g>\n    </g>\n    <g id=\"ytick_9\">\n     <g id=\"line2d_21\">\n      <g>\n       <use xlink:href=\"#m5797ecff47\" x=\"503.23875\" y=\"113.442588\" style=\"stroke: #000000; stroke-width: 0.8\"/>\n      </g>\n     </g>\n     <g id=\"text_17\">\n      <!-- 0.5 -->\n      <g transform=\"translate(510.23875 117.241806)scale(0.1 -0.1)\">\n       <defs>\n        <path id=\"DejaVuSans-35\" d=\"M 691 4666 \nL 3169 4666 \nL 3169 4134 \nL 1269 4134 \nL 1269 2991 \nQ 1406 3038 1543 3061 \nQ 1681 3084 1819 3084 \nQ 2600 3084 3056 2656 \nQ 3513 2228 3513 1497 \nQ 3513 744 3044 326 \nQ 2575 -91 1722 -91 \nQ 1428 -91 1123 -41 \nQ 819 9 494 109 \nL 494 744 \nQ 775 591 1075 516 \nQ 1375 441 1709 441 \nQ 2250 441 2565 725 \nQ 2881 1009 2881 1497 \nQ 2881 1984 2565 2268 \nQ 2250 2553 1709 2553 \nQ 1456 2553 1204 2497 \nQ 953 2441 691 2322 \nL 691 4666 \nz\n\" transform=\"scale(0.015625)\"/>\n       </defs>\n       <use xlink:href=\"#DejaVuSans-30\"/>\n       <use xlink:href=\"#DejaVuSans-2e\" x=\"63.623047\"/>\n       <use xlink:href=\"#DejaVuSans-35\" x=\"95.410156\"/>\n      </g>\n     </g>\n    </g>\n    <g id=\"ytick_10\">\n     <g id=\"line2d_22\">\n      <g>\n       <use xlink:href=\"#m5797ecff47\" x=\"503.23875\" y=\"81.123105\" style=\"stroke: #000000; stroke-width: 0.8\"/>\n      </g>\n     </g>\n     <g id=\"text_18\">\n      <!-- 0.6 -->\n      <g transform=\"translate(510.23875 84.922324)scale(0.1 -0.1)\">\n       <defs>\n        <path id=\"DejaVuSans-36\" d=\"M 2113 2584 \nQ 1688 2584 1439 2293 \nQ 1191 2003 1191 1497 \nQ 1191 994 1439 701 \nQ 1688 409 2113 409 \nQ 2538 409 2786 701 \nQ 3034 994 3034 1497 \nQ 3034 2003 2786 2293 \nQ 2538 2584 2113 2584 \nz\nM 3366 4563 \nL 3366 3988 \nQ 3128 4100 2886 4159 \nQ 2644 4219 2406 4219 \nQ 1781 4219 1451 3797 \nQ 1122 3375 1075 2522 \nQ 1259 2794 1537 2939 \nQ 1816 3084 2150 3084 \nQ 2853 3084 3261 2657 \nQ 3669 2231 3669 1497 \nQ 3669 778 3244 343 \nQ 2819 -91 2113 -91 \nQ 1303 -91 875 529 \nQ 447 1150 447 2328 \nQ 447 3434 972 4092 \nQ 1497 4750 2381 4750 \nQ 2619 4750 2861 4703 \nQ 3103 4656 3366 4563 \nz\n\" transform=\"scale(0.015625)\"/>\n       </defs>\n       <use xlink:href=\"#DejaVuSans-30\"/>\n       <use xlink:href=\"#DejaVuSans-2e\" x=\"63.623047\"/>\n       <use xlink:href=\"#DejaVuSans-36\" x=\"95.410156\"/>\n      </g>\n     </g>\n    </g>\n    <g id=\"ytick_11\">\n     <g id=\"line2d_23\">\n      <g>\n       <use xlink:href=\"#m5797ecff47\" x=\"503.23875\" y=\"48.803623\" style=\"stroke: #000000; stroke-width: 0.8\"/>\n      </g>\n     </g>\n     <g id=\"text_19\">\n      <!-- 0.7 -->\n      <g transform=\"translate(510.23875 52.602841)scale(0.1 -0.1)\">\n       <defs>\n        <path id=\"DejaVuSans-37\" d=\"M 525 4666 \nL 3525 4666 \nL 3525 4397 \nL 1831 0 \nL 1172 0 \nL 2766 4134 \nL 525 4134 \nL 525 4666 \nz\n\" transform=\"scale(0.015625)\"/>\n       </defs>\n       <use xlink:href=\"#DejaVuSans-30\"/>\n       <use xlink:href=\"#DejaVuSans-2e\" x=\"63.623047\"/>\n       <use xlink:href=\"#DejaVuSans-37\" x=\"95.410156\"/>\n      </g>\n     </g>\n    </g>\n    <g id=\"ytick_12\">\n     <g id=\"line2d_24\">\n      <g>\n       <use xlink:href=\"#m5797ecff47\" x=\"503.23875\" y=\"16.48414\" style=\"stroke: #000000; stroke-width: 0.8\"/>\n      </g>\n     </g>\n     <g id=\"text_20\">\n      <!-- 0.8 -->\n      <g transform=\"translate(510.23875 20.283359)scale(0.1 -0.1)\">\n       <defs>\n        <path id=\"DejaVuSans-38\" d=\"M 2034 2216 \nQ 1584 2216 1326 1975 \nQ 1069 1734 1069 1313 \nQ 1069 891 1326 650 \nQ 1584 409 2034 409 \nQ 2484 409 2743 651 \nQ 3003 894 3003 1313 \nQ 3003 1734 2745 1975 \nQ 2488 2216 2034 2216 \nz\nM 1403 2484 \nQ 997 2584 770 2862 \nQ 544 3141 544 3541 \nQ 544 4100 942 4425 \nQ 1341 4750 2034 4750 \nQ 2731 4750 3128 4425 \nQ 3525 4100 3525 3541 \nQ 3525 3141 3298 2862 \nQ 3072 2584 2669 2484 \nQ 3125 2378 3379 2068 \nQ 3634 1759 3634 1313 \nQ 3634 634 3220 271 \nQ 2806 -91 2034 -91 \nQ 1263 -91 848 271 \nQ 434 634 434 1313 \nQ 434 1759 690 2068 \nQ 947 2378 1403 2484 \nz\nM 1172 3481 \nQ 1172 3119 1398 2916 \nQ 1625 2713 2034 2713 \nQ 2441 2713 2670 2916 \nQ 2900 3119 2900 3481 \nQ 2900 3844 2670 4047 \nQ 2441 4250 2034 4250 \nQ 1625 4250 1398 4047 \nQ 1172 3844 1172 3481 \nz\n\" transform=\"scale(0.015625)\"/>\n       </defs>\n       <use xlink:href=\"#DejaVuSans-30\"/>\n       <use xlink:href=\"#DejaVuSans-2e\" x=\"63.623047\"/>\n       <use xlink:href=\"#DejaVuSans-38\" x=\"95.410156\"/>\n      </g>\n     </g>\n    </g>\n   </g>\n   <g id=\"LineCollection_1\"/>\n   <g id=\"patch_9\">\n    <path d=\"M 489.84675 275.04 \nL 496.54275 275.04 \nL 503.23875 275.04 \nL 503.23875 7.2 \nL 496.54275 7.2 \nL 489.84675 7.2 \nL 489.84675 275.04 \nz\n\" style=\"fill: none; stroke: #000000; stroke-width: 0.8; stroke-linejoin: miter; stroke-linecap: square\"/>\n   </g>\n  </g>\n </g>\n <defs>\n  <clipPath id=\"p81a7b04ea5\">\n   <rect x=\"34.51875\" y=\"33.984\" width=\"428.544\" height=\"214.272\"/>\n  </clipPath>\n  <clipPath id=\"p8d922101f3\">\n   <rect x=\"489.84675\" y=\"7.2\" width=\"13.392\" height=\"267.84\"/>\n  </clipPath>\n </defs>\n</svg>\n",
      "text/plain": [
       "<Figure size 960x480 with 2 Axes>"
      ]
     },
     "metadata": {},
     "output_type": "display_data"
    }
   ],
   "source": [
    "plt.matshow(grid.cv_results_['mean_test_score'].reshape(3, -1),\n",
    "            vmin=0, cmap=\"viridis\")\n",
    "plt.xlabel(\"ridge__alpha\")\n",
    "plt.ylabel(\"polynomialfeatures__degree\")\n",
    "plt.xticks(range(len(param_grid['ridge__alpha'])), param_grid['ridge__alpha'])\n",
    "plt.yticks(range(len(param_grid['polynomialfeatures__degree'])),\n",
    "           param_grid['polynomialfeatures__degree'])\n",
    "plt.colorbar()"
   ]
  },
  {
   "cell_type": "code",
   "execution_count": 23,
   "metadata": {},
   "outputs": [
    {
     "name": "stdout",
     "output_type": "stream",
     "text": [
      "Best parameters: {'polynomialfeatures__degree': 2, 'ridge__alpha': 10}\n"
     ]
    }
   ],
   "source": [
    "print(\"Best parameters: {}\".format(grid.best_params_))"
   ]
  },
  {
   "cell_type": "code",
   "execution_count": 24,
   "metadata": {},
   "outputs": [
    {
     "name": "stdout",
     "output_type": "stream",
     "text": [
      "Test-set score: 0.77\n"
     ]
    }
   ],
   "source": [
    "print(\"Test-set score: {:.2f}\".format(grid.score(X_test, y_test)))"
   ]
  },
  {
   "cell_type": "code",
   "execution_count": 25,
   "metadata": {},
   "outputs": [
    {
     "name": "stdout",
     "output_type": "stream",
     "text": [
      "Score without poly features: 0.63\n"
     ]
    }
   ],
   "source": [
    "param_grid = {'ridge__alpha': [0.001, 0.01, 0.1, 1, 10, 100]}\n",
    "pipe = make_pipeline(StandardScaler(), Ridge())\n",
    "grid = GridSearchCV(pipe, param_grid, cv=5)\n",
    "grid.fit(X_train, y_train)\n",
    "print(\"Score without poly features: {:.2f}\".format(grid.score(X_test, y_test)))"
   ]
  },
  {
   "attachments": {},
   "cell_type": "markdown",
   "metadata": {},
   "source": [
    "## Grid-Searching Which Model To Use"
   ]
  },
  {
   "cell_type": "code",
   "execution_count": 26,
   "metadata": {},
   "outputs": [],
   "source": [
    "pipe = Pipeline([('preprocessing', StandardScaler()), ('classifier', SVC())])"
   ]
  },
  {
   "cell_type": "code",
   "execution_count": 27,
   "metadata": {},
   "outputs": [],
   "source": [
    "from sklearn.ensemble import RandomForestClassifier\n",
    "param_grid = [\n",
    "    {'classifier': [SVC()], 'preprocessing': [StandardScaler(), None],\n",
    "     'classifier__gamma': [0.001, 0.01, 0.1, 1, 10, 100],\n",
    "     'classifier__C': [0.001, 0.01, 0.1, 1, 10, 100]},\n",
    "    {'classifier': [RandomForestClassifier(n_estimators=100)],\n",
    "     'preprocessing': [None], 'classifier__max_features': [1, 2, 3]}]"
   ]
  },
  {
   "cell_type": "code",
   "execution_count": 28,
   "metadata": {},
   "outputs": [
    {
     "name": "stdout",
     "output_type": "stream",
     "text": [
      "Best params:\n",
      "{'classifier': SVC(C=10, gamma=0.01), 'classifier__C': 10, 'classifier__gamma': 0.01, 'preprocessing': StandardScaler()}\n",
      "\n",
      "Best cross-validation score: 0.99\n",
      "Test-set score: 0.98\n"
     ]
    }
   ],
   "source": [
    "X_train, X_test, y_train, y_test = train_test_split(\n",
    "    cancer.data, cancer.target, random_state=0)\n",
    "grid = GridSearchCV(pipe, param_grid, cv=5)\n",
    "grid.fit(X_train, y_train)\n",
    "print(\"Best params:\\n{}\\n\".format(grid.best_params_))\n",
    "print(\"Best cross-validation score: {:.2f}\".format(grid.best_score_))\n",
    "print(\"Test-set score: {:.2f}\".format(grid.score(X_test, y_test)))"
   ]
  }
 ],
 "metadata": {
  "kernelspec": {
   "display_name": "test",
   "language": "python",
   "name": "python3"
  },
  "language_info": {
   "codemirror_mode": {
    "name": "ipython",
    "version": 3
   },
   "file_extension": ".py",
   "mimetype": "text/x-python",
   "name": "python",
   "nbconvert_exporter": "python",
   "pygments_lexer": "ipython3",
   "version": "3.10.9"
  },
  "orig_nbformat": 4
 },
 "nbformat": 4,
 "nbformat_minor": 2
}
